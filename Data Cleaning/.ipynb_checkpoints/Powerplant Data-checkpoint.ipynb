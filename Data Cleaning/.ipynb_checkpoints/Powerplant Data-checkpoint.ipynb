{
 "cells": [
  {
   "cell_type": "code",
   "execution_count": 1,
   "metadata": {},
   "outputs": [
    {
     "name": "stdout",
     "output_type": "stream",
     "text": [
      "/Users/tessleggio/GoogleDrive/GeorgiaTech/2018-Fall/01-ISYE-6414/6414Project\n"
     ]
    }
   ],
   "source": [
    "import os\n",
    "os.chdir(\"/Users/tessleggio/GoogleDrive/GeorgiaTech/2018-Fall/01-ISYE-6414/6414Project\")\n",
    "print(os.getcwd())"
   ]
  },
  {
   "cell_type": "code",
   "execution_count": 2,
   "metadata": {},
   "outputs": [],
   "source": [
    "import time\n",
    "import numpy as np\n",
    "import pandas as pd\n",
    "import matplotlib.pyplot as plt\n",
    "import pandasql as ps\n",
    "import glob\n",
    "from dateutil import parser\n",
    "\n",
    "import warnings\n",
    "warnings.filterwarnings('ignore')"
   ]
  },
  {
   "cell_type": "code",
   "execution_count": 3,
   "metadata": {},
   "outputs": [],
   "source": [
    "states = pd.read_csv(\"data/States.csv\")"
   ]
  },
  {
   "cell_type": "code",
   "execution_count": 4,
   "metadata": {},
   "outputs": [
    {
     "data": {
      "text/html": [
       "<div>\n",
       "<style scoped>\n",
       "    .dataframe tbody tr th:only-of-type {\n",
       "        vertical-align: middle;\n",
       "    }\n",
       "\n",
       "    .dataframe tbody tr th {\n",
       "        vertical-align: top;\n",
       "    }\n",
       "\n",
       "    .dataframe thead th {\n",
       "        text-align: right;\n",
       "    }\n",
       "</style>\n",
       "<table border=\"1\" class=\"dataframe\">\n",
       "  <thead>\n",
       "    <tr style=\"text-align: right;\">\n",
       "      <th></th>\n",
       "      <th>State</th>\n",
       "      <th>NumCensusAreas</th>\n",
       "    </tr>\n",
       "  </thead>\n",
       "  <tbody>\n",
       "    <tr>\n",
       "      <th>0</th>\n",
       "      <td>alabama</td>\n",
       "      <td>67</td>\n",
       "    </tr>\n",
       "    <tr>\n",
       "      <th>1</th>\n",
       "      <td>alaska</td>\n",
       "      <td>29</td>\n",
       "    </tr>\n",
       "    <tr>\n",
       "      <th>2</th>\n",
       "      <td>arizona</td>\n",
       "      <td>15</td>\n",
       "    </tr>\n",
       "    <tr>\n",
       "      <th>3</th>\n",
       "      <td>arkansas</td>\n",
       "      <td>75</td>\n",
       "    </tr>\n",
       "    <tr>\n",
       "      <th>4</th>\n",
       "      <td>california</td>\n",
       "      <td>58</td>\n",
       "    </tr>\n",
       "  </tbody>\n",
       "</table>\n",
       "</div>"
      ],
      "text/plain": [
       "        State  NumCensusAreas\n",
       "0     alabama              67\n",
       "1      alaska              29\n",
       "2     arizona              15\n",
       "3    arkansas              75\n",
       "4  california              58"
      ]
     },
     "execution_count": 4,
     "metadata": {},
     "output_type": "execute_result"
    }
   ],
   "source": [
    "NumCensusAreas = pd.read_csv(\"StatesNumCensusAreas.csv\", header=0)\n",
    "NumCensusAreas.head()"
   ]
  },
  {
   "cell_type": "code",
   "execution_count": 5,
   "metadata": {},
   "outputs": [],
   "source": [
    "def cap(string):\n",
    "    if isinstance(string, str):\n",
    "        return string.upper().replace(\" COUNTY\", \"\").capitalize().strip()\n",
    "    else:\n",
    "        return \"\""
   ]
  },
  {
   "cell_type": "code",
   "execution_count": null,
   "metadata": {},
   "outputs": [
    {
     "name": "stdout",
     "output_type": "stream",
     "text": [
      "data/EIA923_Schedules_2_3_4_5_2013_Final_Revision.xlsx\n"
     ]
    }
   ],
   "source": [
    "#--------------------READING AND PRE-PROCESSING POWER PLANT OUTPUT DATA-------------------\n",
    "#-----------------------------------------------------------------------------------------\n",
    "\n",
    "def get_plant():\n",
    "    files = glob.glob(\"data/*2_3_4_5*\")\n",
    "\n",
    "    for i in range(len(files)):\n",
    "        print(files[i])\n",
    "        if i == 0:\n",
    "            data2 = get_pplant(files[i])\n",
    "        else:\n",
    "            upd = get_pplant(files[i])\n",
    "            data2 = pd.concat([data2, upd])\n",
    "    \n",
    "    return data2\n",
    "\n",
    "\n",
    "def get_pplant(filename):\n",
    "    xls = pd.ExcelFile(filename)\n",
    "    data2 = xls.parse(\"Page 1 Generation and Fuel Data\", skiprows=5, index_col=None, na_values=[np.nan])\n",
    "\n",
    "    months = [1, 2, 3, 4, 5, 6, 7, 8, 9, 10, 11, 12]\n",
    "    \n",
    "    #Initializing with January\n",
    "    data2_t = data2.iloc[:, [0, 96, 6, 55, 79]]\n",
    "    data2_t.columns = [\"Plant ID\", \"Year\", \"Plant State\", \"Tot_Consumed_MMBtu\", \"Net_Gen_MWh\"]\n",
    "    data2_t[\"Month\"] = 1\n",
    "    \n",
    "    #Transposing against month\n",
    "    for i in range(1, 12):\n",
    "        #print(i)\n",
    "        data_m = data2.iloc[:, [0, 96, 6, 55 + i, 79 + i]]\n",
    "        data_m.columns = [\"Plant ID\", \"Year\", \"Plant State\", \"Tot_Consumed_MMBtu\", \"Net_Gen_MWh\"]\n",
    "        data_m[\"Month\"] = months[i]\n",
    "        data2_t = pd.concat([data2_t, data_m])\n",
    "    \n",
    "    return data2_t\n",
    "\n",
    "#Getting plant data\n",
    "data2 = get_plant()"
   ]
  },
  {
   "cell_type": "code",
   "execution_count": null,
   "metadata": {},
   "outputs": [],
   "source": [
    "#Obtaining plant location data for operating plants\n",
    "xls = pd.ExcelFile(\"data/august_generator2018.xlsx\")\n",
    "plant_loc = xls.parse(\"Operating\", skiprows=1, index_col=None, na_values=[np.nan])\n",
    "q1 = \"\"\"SELECT DISTINCT `Plant ID`, `Technology`, `Energy Source Code`, County FROM plant_loc\"\"\"\n",
    "plant_loc = ps.sqldf(query=q1)\n",
    "\n",
    "#Obtaining full state name from state abbreviation\n",
    "states_p = states.copy()\n",
    "states_p.columns = [\"State\", \"Plant State\"]\n",
    "states_p[\"State\"] = states_p[\"State\"].apply(str.capitalize)\n",
    "data2 = pd.merge(data2, states_p, how=\"left\", on=[\"Plant State\"])"
   ]
  },
  {
   "cell_type": "code",
   "execution_count": null,
   "metadata": {},
   "outputs": [],
   "source": [
    "#Obtaining plant location data for retired plants\n",
    "xls2 = pd.ExcelFile(\"data/august_generator2018.xlsx\")\n",
    "plant_loc2 = xls2.parse(\"Retired\", skiprows=1, index_col=None, na_values=[np.nan])\n",
    "q2 = \"\"\"SELECT DISTINCT `Plant ID`, `Technology`, `Energy Source Code`, County FROM plant_loc2\"\"\"\n",
    "plant_loc2 = ps.sqldf(query=q2)\n",
    "plant_loc2.head()"
   ]
  },
  {
   "cell_type": "code",
   "execution_count": null,
   "metadata": {},
   "outputs": [],
   "source": [
    "#Merging in plant location from State\n",
    "data3 = pd.merge(data2, plant_loc, how=\"left\", on=[\"Plant ID\"])\n",
    "data3 = pd.merge(data3, plant_loc2, how=\"left\", on=[\"Plant ID\"])\n",
    "\n",
    "data3['County'] = data3['County_x'].where(data3['County_x'].notnull(), data3['County_y'])\n",
    "data3['Technology'] = data3['Technology_x'].where(data3['Technology_x'].notnull(), data3['Technology_y'])\n",
    "data3['Energy Source Code'] = data3['Energy Source Code_x'].where(data3['Energy Source Code_x'].notnull(), data3['Energy Source Code_y'])\n",
    "data3.drop(['County_x','County_y','Energy Source Code_x', 'Energy Source Code_y','Technology_x', 'Technology_y'], axis=1, inplace=True)\n",
    "display(data3.head())"
   ]
  },
  {
   "cell_type": "code",
   "execution_count": null,
   "metadata": {},
   "outputs": [],
   "source": [
    "#Removing trailing blanks from county and state variables and make lowercase\n",
    "data3[\"County\"] = data3[\"County\"].apply(cap).str.lower()\n",
    "data3[\"State\"] = data3[\"State\"].apply(cap).str.lower()\n",
    "\n",
    "#Fix \"sout\" by replacing with \"south dakota\" (consistent with Plant State)\n",
    "data3['State'] = data3['State'].replace('sout', 'south dakota')\n",
    "\n",
    "#Replace \"washington dc\" with \"district of columbia\" to be consistent with population data\n",
    "data3['State'] = data3['State'].replace('washington dc', 'district of columbia')\n",
    "\n",
    "#Replace . with NaNs\n",
    "data3['Tot_Consumed_MMBtu'] = data3['Tot_Consumed_MMBtu'].replace('.', np.nan)\n",
    "data3['Net_Gen_MWh'] = data3['Net_Gen_MWh'].replace('.', np.nan)\n",
    "data3['County'] = data3['County'].replace('', np.nan)\n",
    "\n",
    "#Add a category for State-Fuel Level Increment\n",
    "data3[\"State-Fuel Level Increment\"] = 1 * (data3['Plant ID'] == 99999)\n",
    "display(data3.tail())"
   ]
  },
  {
   "cell_type": "code",
   "execution_count": null,
   "metadata": {},
   "outputs": [],
   "source": [
    "data3_missing = data3[data3['County'].isnull()]\n",
    "data3_missing.head()\n",
    "\n",
    "statefuel = data3_missing[data3_missing['State-Fuel Level Increment'] == 1]\n",
    "\n",
    "print('# missing counties =', len(data3_missing))\n",
    "print('# missing counties, state-fuel level increment =', len(statefuel))\n",
    "print('delta missing =', len(data3_missing) - len(statefuel))\n",
    "print('% missing =', round((len(data3_missing) - len(statefuel))*100/len(data3),2),'%')\n",
    "print(len(data3))"
   ]
  },
  {
   "cell_type": "code",
   "execution_count": null,
   "metadata": {},
   "outputs": [],
   "source": [
    "powerplant = data3"
   ]
  },
  {
   "cell_type": "code",
   "execution_count": null,
   "metadata": {},
   "outputs": [],
   "source": [
    "query = '''SELECT * FROM powerplant WHERE Year = 2017'''\n",
    "powerplant_2016 = ps.sqldf(query=query)\n",
    "powerplant_2016.head()"
   ]
  },
  {
   "cell_type": "code",
   "execution_count": null,
   "metadata": {},
   "outputs": [],
   "source": [
    "#Checking Number of States\n",
    "query = \"\"\"SELECT DISTINCT State FROM powerplant ORDER BY State ASC\"\"\"\n",
    "len(ps.sqldf(query=query))"
   ]
  },
  {
   "cell_type": "code",
   "execution_count": null,
   "metadata": {},
   "outputs": [],
   "source": [
    "#Checking number of key variable combinations\n",
    "query = \"\"\"SELECT COUNT(*) AS COUNT FROM (SELECT DISTINCT State, County, Year FROM powerplant)\"\"\"\n",
    "ps.sqldf(query=query)"
   ]
  },
  {
   "cell_type": "code",
   "execution_count": null,
   "metadata": {},
   "outputs": [],
   "source": [
    "#Checking which powerplants are missing data\n",
    "query = \"\"\"SELECT [Plant ID] FROM powerplant WHERE County IS NULL\"\"\"\n",
    "ps.sqldf(query=query)"
   ]
  },
  {
   "cell_type": "code",
   "execution_count": null,
   "metadata": {},
   "outputs": [],
   "source": [
    "#Checking Number of Counties for each State\n",
    "query = \"\"\"SELECT State, COUNT(DISTINCT County) as NumCensusAreas from powerplant GROUP BY State ORDER BY State ASC\"\"\"\n",
    "check = ps.sqldf(query=query)"
   ]
  },
  {
   "cell_type": "code",
   "execution_count": null,
   "metadata": {},
   "outputs": [],
   "source": [
    "display(check[check['NumCensusAreas'] != NumCensusAreas['NumCensusAreas']].head())\n",
    "check2 = check.copy()\n",
    "check2['diff'] = check['NumCensusAreas'] - NumCensusAreas['NumCensusAreas']\n",
    "display(check2[check2['diff'] > 0]) #many of these are retired so there are blanks"
   ]
  },
  {
   "cell_type": "code",
   "execution_count": null,
   "metadata": {},
   "outputs": [],
   "source": [
    "#Aggregating by county\n",
    "query = \"\"\" SELECT Year, Month, State, County, SUM(Tot_Consumed_MMBtu) as pp_consumed_MMBtu, SUM(Net_Gen_MWh) as pp_net_gen_MWh\n",
    "            FROM powerplant\n",
    "            GROUP BY State, County, Year, Month \n",
    "            ORDER BY State ASC\"\"\"\n",
    "powerplant_agg = ps.sqldf(query=query)"
   ]
  },
  {
   "cell_type": "code",
   "execution_count": null,
   "metadata": {},
   "outputs": [],
   "source": [
    "powerplant_agg[10000:10200]"
   ]
  },
  {
   "cell_type": "code",
   "execution_count": null,
   "metadata": {},
   "outputs": [],
   "source": [
    "data3.to_csv(\"./cleaned_data/powerplant.csv\", index=None, header=True)\n",
    "data3_missing.to_csv(\"./cleaned_data/powerplant_missing-counties.csv\", index=None, header=True)\n",
    "powerplant_agg.to_csv(\"./cleaned_data/powerplant_agg.csv\", index=None, header=True)"
   ]
  }
 ],
 "metadata": {
  "kernelspec": {
   "display_name": "Python 3",
   "language": "python",
   "name": "python3"
  },
  "language_info": {
   "codemirror_mode": {
    "name": "ipython",
    "version": 3
   },
   "file_extension": ".py",
   "mimetype": "text/x-python",
   "name": "python",
   "nbconvert_exporter": "python",
   "pygments_lexer": "ipython3",
   "version": "3.7.1"
  }
 },
 "nbformat": 4,
 "nbformat_minor": 2
}
