{
 "cells": [
  {
   "cell_type": "code",
   "execution_count": 1,
   "metadata": {},
   "outputs": [],
   "source": [
    "import numpy as np\n",
    "import pandas as pd"
   ]
  },
  {
   "cell_type": "code",
   "execution_count": 2,
   "metadata": {},
   "outputs": [],
   "source": [
    "import matplotlib.pyplot as plt"
   ]
  },
  {
   "cell_type": "code",
   "execution_count": 5,
   "metadata": {
    "scrolled": true
   },
   "outputs": [
    {
     "name": "stderr",
     "output_type": "stream",
     "text": [
      "/Applications/anaconda3/lib/python3.6/site-packages/IPython/core/interactiveshell.py:2728: DtypeWarning: Columns (15,16) have mixed types. Specify dtype option on import or set low_memory=False.\n",
      "  interactivity=interactivity, compiler=compiler, result=result)\n"
     ]
    }
   ],
   "source": [
    "data = pd.read_csv(\"data_merged_meso_weather-dropped.csv\")"
   ]
  },
  {
   "cell_type": "code",
   "execution_count": 6,
   "metadata": {},
   "outputs": [],
   "source": [
    "def missing_density(df, column):\n",
    "    return pd.isnull(df[column]).sum()/df.shape[0]\n",
    "\n",
    "def missing_sum(df):\n",
    "    \n",
    "    # Initializing missing dictionary\n",
    "    missing = dict()\n",
    "    \n",
    "    # Determining fraction of missing values \n",
    "    for column in df.columns:\n",
    "        miss = missing_density(df, column)\n",
    "        print(column + \" Missing Fraction : \" + str(miss))\n",
    "        missing[column] = miss\n",
    "    \n",
    "    missing_series = pd.Series(missing)\n",
    "    \n",
    "    return missing_series  \n",
    "        \n",
    "\n",
    "def missing_drop(df, frac):\n",
    "    missing = missing_sum(df)\n",
    "    best_col = missing[missing < frac].index.values\n",
    "    return df[best_col]\n",
    "\n",
    "def missing_drop_row(df):\n",
    "    return df.dropna(how=\"any\", axis=0)\n",
    "\n",
    "def dropall(df, frac):\n",
    "    return missing_drop_row(missing_drop(df, frac))"
   ]
  },
  {
   "cell_type": "code",
   "execution_count": 86,
   "metadata": {
    "collapsed": true
   },
   "outputs": [],
   "source": [
    "data_nomiss.to_csv(\"data_nomiss.csv\", index=False)"
   ]
  },
  {
   "cell_type": "code",
   "execution_count": 98,
   "metadata": {},
   "outputs": [
    {
     "data": {
      "text/plain": [
       "Index(['AQI', 'Biogenic CO2', 'CO2', 'Category', 'County', 'County Code',\n",
       "       'Day', 'Defining Parameter', 'HFC', 'HFE', 'Income', 'Methane', 'Month',\n",
       "       'NF3', 'Nitrous Oxide', 'Other Fluorane', 'Other GHG', 'PFC',\n",
       "       'Population', 'Region', 'SF6', 'Short Lived Compounds', 'State',\n",
       "       'State Code', 'Stationary Combustion', 'Temperature', 'Total Emissions',\n",
       "       'Unnamed: 0', 'Year', 'pp_consumed_MMBtu', 'pp_net_gen_MWh'],\n",
       "      dtype='object')"
      ]
     },
     "execution_count": 98,
     "metadata": {},
     "output_type": "execute_result"
    }
   ],
   "source": [
    "data_nomiss.columns"
   ]
  },
  {
   "cell_type": "code",
   "execution_count": null,
   "metadata": {
    "collapsed": true
   },
   "outputs": [],
   "source": []
  }
 ],
 "metadata": {
  "kernelspec": {
   "display_name": "Python 3",
   "language": "python",
   "name": "python3"
  },
  "language_info": {
   "codemirror_mode": {
    "name": "ipython",
    "version": 3
   },
   "file_extension": ".py",
   "mimetype": "text/x-python",
   "name": "python",
   "nbconvert_exporter": "python",
   "pygments_lexer": "ipython3",
   "version": "3.6.4"
  }
 },
 "nbformat": 4,
 "nbformat_minor": 2
}
