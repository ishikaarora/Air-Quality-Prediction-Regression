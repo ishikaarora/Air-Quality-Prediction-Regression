{
 "cells": [
  {
   "cell_type": "code",
   "execution_count": 1,
   "metadata": {},
   "outputs": [
    {
     "name": "stdout",
     "output_type": "stream",
     "text": [
      "/Users/tessleggio/GoogleDrive/GeorgiaTech/2018-Fall/01-ISYE-6414/6414Project\n"
     ]
    }
   ],
   "source": [
    "#cd /home/user1/Scripts/Python27/repos/aqs/\n",
    "\n",
    "import os\n",
    "os.chdir(\"/Users/tessleggio/GoogleDrive/GeorgiaTech/2018-Fall/01-ISYE-6414/6414Project\")\n",
    "print(os.getcwd())"
   ]
  },
  {
   "cell_type": "code",
   "execution_count": 2,
   "metadata": {},
   "outputs": [],
   "source": [
    "import time\n",
    "import numpy as np\n",
    "import pandas as pd\n",
    "import matplotlib.pyplot as plt\n",
    "import pandasql as ps\n",
    "import glob\n",
    "from dateutil import parser\n",
    "\n",
    "import warnings\n",
    "warnings.filterwarnings('ignore')"
   ]
  },
  {
   "cell_type": "code",
   "execution_count": 4,
   "metadata": {},
   "outputs": [],
   "source": [
    "states = pd.read_csv(\"data/States.csv\")"
   ]
  },
  {
   "cell_type": "code",
   "execution_count": null,
   "metadata": {},
   "outputs": [
    {
     "name": "stdout",
     "output_type": "stream",
     "text": [
      "data/EIA923_Schedules_2_3_4_5_2013_Final_Revision.xlsx\n",
      "data/EIA923_Schedules_2_3_4_5_M_12_2012_Final_Revision.xlsx\n"
     ]
    }
   ],
   "source": [
    "#--------------------READING AND PRE-PROCESSING POWER PLANT OUTPUT DATA-------------------\n",
    "#-----------------------------------------------------------------------------------------\n",
    "\n",
    "def get_plant():\n",
    "    files = glob.glob(\"data/*2_3_4_5*\")\n",
    "\n",
    "    for i in range(len(files)):\n",
    "        print(files[i])\n",
    "        if i == 0:\n",
    "            data2 = get_pplant(files[i])\n",
    "        else:\n",
    "            upd = get_pplant(files[i])\n",
    "            data2 = pd.concat([data2, upd])\n",
    "    \n",
    "    return data2\n",
    "\n",
    "\n",
    "def get_pplant(filename):\n",
    "    xls = pd.ExcelFile(filename)\n",
    "    data2 = xls.parse(\"Page 1 Generation and Fuel Data\", skiprows=5, index_col=None, na_values=[np.nan])\n",
    "\n",
    "    months = [1, 2, 3, 4, 5, 6, 7, 8, 9, 10, 11, 12]\n",
    "    \n",
    "    #Initializing with January\n",
    "    data2_t = data2.iloc[:, [0, 96, 6, 55, 79]]\n",
    "    data2_t.columns = [\"Plant ID\", \"Year\", \"Plant State\", \"Tot_Consumed_MMBtu\", \"Net_Gen_MWh\"]\n",
    "    data2_t[\"Month\"] = 1\n",
    "    \n",
    "    #Transposing against month\n",
    "    for i in range(1, 12):\n",
    "        #print(i)\n",
    "        data_m = data2.iloc[:, [0, 96, 6, 55 + i, 79 + i]]\n",
    "        data_m.columns = [\"Plant ID\", \"Year\", \"Plant State\", \"Tot_Consumed_MMBtu\", \"Net_Gen_MWh\"]\n",
    "        data_m[\"Month\"] = months[i]\n",
    "        data2_t = pd.concat([data2_t, data_m])\n",
    "    \n",
    "    return data2_t\n",
    "\n",
    "#Getting plant data\n",
    "data2 = get_plant()"
   ]
  },
  {
   "cell_type": "code",
   "execution_count": null,
   "metadata": {},
   "outputs": [],
   "source": [
    "#Obtaining plant location data for operating plants\n",
    "xls = pd.ExcelFile(\"data/august_generator2018.xlsx\")\n",
    "plant_loc = xls.parse(\"Operating\", skiprows=1, index_col=None, na_values=[np.nan])\n",
    "q1 = \"\"\"SELECT DISTINCT `Plant ID`, `Technology`, `Energy Source Code`, County FROM plant_loc\"\"\"\n",
    "plant_loc = ps.sqldf(query=q1)\n",
    "\n",
    "#Obtaining full state name from state abbreviation\n",
    "states_p = states.copy()\n",
    "states_p.columns = [\"State\", \"Plant State\"]\n",
    "states_p[\"State\"] = states_p[\"State\"].apply(str.capitalize)\n",
    "data2 = pd.merge(data2, states_p, how=\"left\", on=[\"Plant State\"])"
   ]
  },
  {
   "cell_type": "code",
   "execution_count": null,
   "metadata": {},
   "outputs": [],
   "source": [
    "#Remove state totals from county column\n",
    "data1_dropped = data1.drop(data1[(data1['SUMLEV'] == 40)].index, axis=0)\n",
    "data1_dropped.drop('SUMLEV', axis=1, inplace=True)\n",
    "\n",
    "#state and county names to all lowercase\n",
    "data1_dropped['State'] = data1_dropped['State'].str.lower()\n",
    "data1_dropped['County'] = data1_dropped['County'].str.lower()"
   ]
  },
  {
   "cell_type": "code",
   "execution_count": null,
   "metadata": {},
   "outputs": [],
   "source": [
    "data1_dropped.to_csv(\"./cleaned_data/population.csv\", index=None, header=True)\n",
    "data1_dropped.head()"
   ]
  },
  {
   "cell_type": "code",
   "execution_count": null,
   "metadata": {},
   "outputs": [],
   "source": [
    "population = data1_dropped"
   ]
  },
  {
   "cell_type": "code",
   "execution_count": null,
   "metadata": {},
   "outputs": [],
   "source": [
    "#Checking Number of records for each combination of key variables\n",
    "query=\"\"\"SELECT DISTINCT Count FROM (SELECT Year, State, County, COUNT(*) AS Count FROM population GROUP BY Year, State, County)\"\"\"\n",
    "ps.sqldf(query=query)"
   ]
  },
  {
   "cell_type": "code",
   "execution_count": null,
   "metadata": {},
   "outputs": [],
   "source": [
    "#Checking where key variable uniqueness is violated\n",
    "query=\"\"\"SELECT * FROM (SELECT Year, State, County, COUNT(*) AS Count FROM population GROUP BY Year, State, County) WHERE Count > 1\"\"\"\n",
    "ps.sqldf(query=query)"
   ]
  },
  {
   "cell_type": "code",
   "execution_count": null,
   "metadata": {},
   "outputs": [],
   "source": [
    "#Checking Number of Counties for each State\n",
    "query = \"\"\"SELECT State, COUNT(DISTINCT County) as NumCensusAreas from population GROUP BY State\"\"\"\n",
    "check = ps.sqldf(query=query)\n",
    "display(check.head())\n",
    "check == NumCensusAreas"
   ]
  }
 ],
 "metadata": {
  "kernelspec": {
   "display_name": "Python 3",
   "language": "python",
   "name": "python3"
  },
  "language_info": {
   "codemirror_mode": {
    "name": "ipython",
    "version": 3
   },
   "file_extension": ".py",
   "mimetype": "text/x-python",
   "name": "python",
   "nbconvert_exporter": "python",
   "pygments_lexer": "ipython3",
   "version": "3.7.1"
  }
 },
 "nbformat": 4,
 "nbformat_minor": 2
}
