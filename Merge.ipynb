{
 "cells": [
  {
   "cell_type": "code",
   "execution_count": 5,
   "metadata": {},
   "outputs": [
    {
     "name": "stdout",
     "output_type": "stream",
     "text": [
      "/Users/tessleggio/GoogleDrive/GeorgiaTech/2018-Fall/01-ISYE-6414/6414Project/cleaned_data\n"
     ]
    }
   ],
   "source": [
    "import os\n",
    "os.chdir(\"/Users/tessleggio/GoogleDrive/GeorgiaTech/2018-Fall/01-ISYE-6414/6414Project/cleaned_data\")\n",
    "print(os.getcwd())"
   ]
  },
  {
   "cell_type": "code",
   "execution_count": 7,
   "metadata": {},
   "outputs": [],
   "source": [
    "import numpy as np\n",
    "import pandas as pd\n",
    "import pandasql as ps"
   ]
  },
  {
   "cell_type": "code",
   "execution_count": 9,
   "metadata": {},
   "outputs": [],
   "source": [
    "aqi = pd.read_csv(\"aqi_2016.csv\")\n",
    "ghg = pd.read_csv(\"ghg_2016.csv\")\n",
    "income = pd.read_csv(\"income_2016.csv\")\n",
    "pop = pd.read_csv(\"population_2016.csv\")\n",
    "plant = pd.read_csv(\"powerplant_2016.csv\")\n",
    "weather = pd.read_csv(\"EPA_weather_2016.csv\")"
   ]
  },
  {
   "cell_type": "code",
   "execution_count": 11,
   "metadata": {},
   "outputs": [],
   "source": [
    "aqi['State'] = aqi['State'].str.strip()\n",
    "aqi['County'] = aqi['County'].str.strip()\n",
    "\n",
    "ghg['State'] = ghg['State'].str.strip()\n",
    "ghg['County'] = ghg['County'].str.strip()\n",
    "\n",
    "income['State'] = income['State'].str.strip()\n",
    "income['County'] = income['County'].str.strip()\n",
    "\n",
    "pop['State'] = pop['State'].str.strip()\n",
    "pop['County'] = pop['County'].str.strip()\n",
    "\n",
    "plant['State'] = plant['State'].str.strip()\n",
    "plant['County'] = plant['County'].str.strip()\n",
    "\n",
    "weather['State'] = weather['State'].str.strip()\n",
    "weather['County'] = weather['County'].str.strip()"
   ]
  },
  {
   "cell_type": "code",
   "execution_count": 13,
   "metadata": {},
   "outputs": [
    {
     "name": "stdout",
     "output_type": "stream",
     "text": [
      "aqi 1053\n",
      "ghg 2130\n",
      "income 3137\n",
      "pop 3142\n",
      "plant 1978\n",
      "weather 425\n"
     ]
    }
   ],
   "source": [
    "query = '''SELECT DISTINCT State, County FROM aqi'''\n",
    "aqi_counties = ps.sqldf(query=query)\n",
    "print('aqi',len(aqi_counties))\n",
    "\n",
    "query = '''SELECT DISTINCT State, County FROM ghg'''\n",
    "ghg_counties = ps.sqldf(query=query)\n",
    "print('ghg',len(ghg_counties))\n",
    "\n",
    "query = '''SELECT DISTINCT State, County FROM income'''\n",
    "income_counties = ps.sqldf(query=query)\n",
    "print('income',len(income_counties))\n",
    "\n",
    "query = '''SELECT DISTINCT State, County FROM pop'''\n",
    "pop_counties = ps.sqldf(query=query)\n",
    "print('pop',len(pop_counties))\n",
    "\n",
    "query = '''SELECT DISTINCT State, County FROM plant'''\n",
    "plant_counties = ps.sqldf(query=query)\n",
    "print('plant',len(plant_counties))\n",
    "\n",
    "query = '''SELECT DISTINCT State, County FROM weather'''\n",
    "weather_counties = ps.sqldf(query=query)\n",
    "print('weather',len(weather_counties))"
   ]
  },
  {
   "cell_type": "code",
   "execution_count": 15,
   "metadata": {},
   "outputs": [],
   "source": [
    "aqi_cty = aqi[['State', 'County']].drop_duplicates()\n",
    "aqi_cty['aqi'] = 1\n",
    "\n",
    "ghg_cty = ghg[['State', 'County']].drop_duplicates()\n",
    "ghg_cty['ghg'] = 1\n",
    "\n",
    "income_cty = income[['State', 'County']].drop_duplicates()\n",
    "income_cty['income'] = 1\n",
    "\n",
    "pop_cty = pop[['State', 'County']].drop_duplicates()\n",
    "pop_cty['pop'] = 1\n",
    "\n",
    "plant_cty = plant[['State', 'County']].drop_duplicates()\n",
    "plant_cty['plant'] = 1\n",
    "\n",
    "weather_cty = weather[['State', 'County']].drop_duplicates()\n",
    "weather_cty['weather'] = 1"
   ]
  },
  {
   "cell_type": "code",
   "execution_count": 25,
   "metadata": {},
   "outputs": [
    {
     "data": {
      "text/html": [
       "<div>\n",
       "<style scoped>\n",
       "    .dataframe tbody tr th:only-of-type {\n",
       "        vertical-align: middle;\n",
       "    }\n",
       "\n",
       "    .dataframe tbody tr th {\n",
       "        vertical-align: top;\n",
       "    }\n",
       "\n",
       "    .dataframe thead th {\n",
       "        text-align: right;\n",
       "    }\n",
       "</style>\n",
       "<table border=\"1\" class=\"dataframe\">\n",
       "  <thead>\n",
       "    <tr style=\"text-align: right;\">\n",
       "      <th></th>\n",
       "      <th>State</th>\n",
       "      <th>County</th>\n",
       "      <th>aqi</th>\n",
       "      <th>ghg</th>\n",
       "      <th>income</th>\n",
       "      <th>pop</th>\n",
       "      <th>plant</th>\n",
       "      <th>weather</th>\n",
       "    </tr>\n",
       "  </thead>\n",
       "  <tbody>\n",
       "    <tr>\n",
       "      <th>1081</th>\n",
       "      <td>alabama</td>\n",
       "      <td>autauga</td>\n",
       "      <td>NaN</td>\n",
       "      <td>1.0</td>\n",
       "      <td>1.0</td>\n",
       "      <td>1.0</td>\n",
       "      <td>1.0</td>\n",
       "      <td>NaN</td>\n",
       "    </tr>\n",
       "    <tr>\n",
       "      <th>0</th>\n",
       "      <td>alabama</td>\n",
       "      <td>baldwin</td>\n",
       "      <td>1.0</td>\n",
       "      <td>1.0</td>\n",
       "      <td>1.0</td>\n",
       "      <td>1.0</td>\n",
       "      <td>NaN</td>\n",
       "      <td>NaN</td>\n",
       "    </tr>\n",
       "    <tr>\n",
       "      <th>1082</th>\n",
       "      <td>alabama</td>\n",
       "      <td>barbour</td>\n",
       "      <td>NaN</td>\n",
       "      <td>1.0</td>\n",
       "      <td>1.0</td>\n",
       "      <td>1.0</td>\n",
       "      <td>NaN</td>\n",
       "      <td>NaN</td>\n",
       "    </tr>\n",
       "    <tr>\n",
       "      <th>2348</th>\n",
       "      <td>alabama</td>\n",
       "      <td>bibb</td>\n",
       "      <td>NaN</td>\n",
       "      <td>NaN</td>\n",
       "      <td>1.0</td>\n",
       "      <td>1.0</td>\n",
       "      <td>NaN</td>\n",
       "      <td>NaN</td>\n",
       "    </tr>\n",
       "    <tr>\n",
       "      <th>2155</th>\n",
       "      <td>alabama</td>\n",
       "      <td>blount</td>\n",
       "      <td>NaN</td>\n",
       "      <td>1.0</td>\n",
       "      <td>1.0</td>\n",
       "      <td>1.0</td>\n",
       "      <td>NaN</td>\n",
       "      <td>NaN</td>\n",
       "    </tr>\n",
       "    <tr>\n",
       "      <th>2349</th>\n",
       "      <td>alabama</td>\n",
       "      <td>bullock</td>\n",
       "      <td>NaN</td>\n",
       "      <td>NaN</td>\n",
       "      <td>1.0</td>\n",
       "      <td>1.0</td>\n",
       "      <td>NaN</td>\n",
       "      <td>NaN</td>\n",
       "    </tr>\n",
       "    <tr>\n",
       "      <th>2350</th>\n",
       "      <td>alabama</td>\n",
       "      <td>butler</td>\n",
       "      <td>NaN</td>\n",
       "      <td>NaN</td>\n",
       "      <td>1.0</td>\n",
       "      <td>1.0</td>\n",
       "      <td>NaN</td>\n",
       "      <td>NaN</td>\n",
       "    </tr>\n",
       "    <tr>\n",
       "      <th>1083</th>\n",
       "      <td>alabama</td>\n",
       "      <td>calhoun</td>\n",
       "      <td>NaN</td>\n",
       "      <td>1.0</td>\n",
       "      <td>1.0</td>\n",
       "      <td>1.0</td>\n",
       "      <td>1.0</td>\n",
       "      <td>NaN</td>\n",
       "    </tr>\n",
       "    <tr>\n",
       "      <th>1084</th>\n",
       "      <td>alabama</td>\n",
       "      <td>chambers</td>\n",
       "      <td>NaN</td>\n",
       "      <td>1.0</td>\n",
       "      <td>1.0</td>\n",
       "      <td>1.0</td>\n",
       "      <td>1.0</td>\n",
       "      <td>NaN</td>\n",
       "    </tr>\n",
       "    <tr>\n",
       "      <th>2231</th>\n",
       "      <td>alabama</td>\n",
       "      <td>cherokee</td>\n",
       "      <td>NaN</td>\n",
       "      <td>1.0</td>\n",
       "      <td>1.0</td>\n",
       "      <td>1.0</td>\n",
       "      <td>1.0</td>\n",
       "      <td>NaN</td>\n",
       "    </tr>\n",
       "  </tbody>\n",
       "</table>\n",
       "</div>"
      ],
      "text/plain": [
       "        State    County  aqi  ghg  income  pop  plant  weather\n",
       "1081  alabama   autauga  NaN  1.0     1.0  1.0    1.0      NaN\n",
       "0     alabama   baldwin  1.0  1.0     1.0  1.0    NaN      NaN\n",
       "1082  alabama   barbour  NaN  1.0     1.0  1.0    NaN      NaN\n",
       "2348  alabama      bibb  NaN  NaN     1.0  1.0    NaN      NaN\n",
       "2155  alabama    blount  NaN  1.0     1.0  1.0    NaN      NaN\n",
       "2349  alabama   bullock  NaN  NaN     1.0  1.0    NaN      NaN\n",
       "2350  alabama    butler  NaN  NaN     1.0  1.0    NaN      NaN\n",
       "1083  alabama   calhoun  NaN  1.0     1.0  1.0    1.0      NaN\n",
       "1084  alabama  chambers  NaN  1.0     1.0  1.0    1.0      NaN\n",
       "2231  alabama  cherokee  NaN  1.0     1.0  1.0    1.0      NaN"
      ]
     },
     "metadata": {},
     "output_type": "display_data"
    }
   ],
   "source": [
    "check = pd.merge(aqi_cty, ghg_cty, on=['State', 'County'], how='outer')\n",
    "check = pd.merge(check, income_cty, on=['State', 'County'], how='outer')\n",
    "check = pd.merge(check, pop_cty, on=['State', 'County'], how='outer')\n",
    "check = pd.merge(check, plant_cty, on=['State', 'County'], how='outer')\n",
    "check = pd.merge(check, weather_cty, on=['State', 'County'], how='outer')\n",
    "check = check.sort_values(by=['State', 'County'], ascending=True)\n",
    "\n",
    "display(check.head(10))\n",
    "\n",
    "check.to_csv(\"data_merged_checkcounties.csv\")"
   ]
  },
  {
   "cell_type": "code",
   "execution_count": 17,
   "metadata": {},
   "outputs": [
    {
     "data": {
      "text/plain": [
       "Index(['State', 'County', 'Date Local', 'State Code', 'County Code',\n",
       "       'Average Temperature', 'Year', 'Month', 'Day', 'Average Air Pressure',\n",
       "       'Average Humidity', 'Average Windspeed'],\n",
       "      dtype='object')"
      ]
     },
     "execution_count": 17,
     "metadata": {},
     "output_type": "execute_result"
    }
   ],
   "source": [
    "weather.columns"
   ]
  },
  {
   "cell_type": "code",
   "execution_count": 18,
   "metadata": {},
   "outputs": [
    {
     "name": "stdout",
     "output_type": "stream",
     "text": [
      "aqi has 330533 lines of data\n",
      "aqi has 0 missing lines of data\n",
      "\n",
      "aqi+ghg has 330533 lines of data\n",
      "aqi+ghg has 67228 missing lines of data\n",
      "\n",
      "aqi+ghg+income has 330533 lines of data\n",
      "aqi+ghg+income has 76368 missing lines of data\n",
      "\n",
      "aqi+ghg+income+pop has 330533 lines of data\n",
      "aqi+ghg+income+pop has 76368 missing lines of data\n",
      "\n",
      "aqi+ghg+income+pop+plant has 330533 lines of data\n",
      "aqi+ghg+income+pop+plant has 102888 missing lines of data\n",
      "\n",
      "aqi+ghg+income+pop+plant+weather has 330533 lines of data\n",
      "aqi+ghg+income+pop+plant+weather has 296829 missing lines of data\n",
      "\n"
     ]
    }
   ],
   "source": [
    "data0 = aqi\n",
    "print('aqi has',len(data0), 'lines of data')\n",
    "print('aqi has',len(data0)-len(data0.dropna()), 'missing lines of data\\n')\n",
    "\n",
    "data1 = pd.merge(data0, ghg, how=\"left\", on = [\"Year\", \"State\", \"County\"])\n",
    "print('aqi+ghg has',len(data1), 'lines of data')\n",
    "print('aqi+ghg has',len(data1)-len(data1.dropna()), 'missing lines of data\\n')\n",
    "\n",
    "data2 = pd.merge(data1, income, how=\"left\", on = [\"Year\", \"State\", \"County\"])\n",
    "print('aqi+ghg+income has',len(data2), 'lines of data')\n",
    "print('aqi+ghg+income has',len(data2)-len(data2.dropna()), 'missing lines of data\\n')\n",
    "\n",
    "data3 = pd.merge(data2, pop, how=\"left\", on = [\"Year\", \"State\", \"County\"])\n",
    "print('aqi+ghg+income+pop has',len(data3), 'lines of data')\n",
    "print('aqi+ghg+income+pop has',len(data3)-len(data3.dropna()), 'missing lines of data\\n')\n",
    "\n",
    "data4 = pd.merge(data3, plant, how=\"left\", on = [\"Year\", \"State\", \"County\", \"Month\"])\n",
    "print('aqi+ghg+income+pop+plant has',len(data4), 'lines of data')\n",
    "print('aqi+ghg+income+pop+plant has',len(data4)-len(data4.dropna()), 'missing lines of data\\n')\n",
    "\n",
    "data5 = pd.merge(data4, weather, how=\"left\", on=[\"Year\", \"State\", \"County\", \"Month\", \"Day\"])\n",
    "print('aqi+ghg+income+pop+plant+weather has',len(data5), 'lines of data')\n",
    "print('aqi+ghg+income+pop+plant+weather has',len(data5)-len(data5.dropna()), 'missing lines of data\\n')"
   ]
  },
  {
   "cell_type": "code",
   "execution_count": 20,
   "metadata": {},
   "outputs": [
    {
     "data": {
      "text/plain": [
       "Index(['State', 'County', 'AQI', 'Category', 'Defining Parameter', 'Year',\n",
       "       'Month', 'Day', 'Total Emissions', 'CO2', 'Methane', 'Nitrous Oxide',\n",
       "       'HFC', 'PFC', 'SF6', 'NF3', 'Other Fluorane', 'HFE',\n",
       "       'Short Lived Compounds', 'Other GHG', 'Biogenic CO2',\n",
       "       'Stationary Combustion', 'Income', 'Region', 'Population',\n",
       "       'pp_consumed_MMBtu', 'pp_net_gen_MWh', 'Average Temperature',\n",
       "       'Average Air Pressure', 'Average Humidity', 'Average Windspeed'],\n",
       "      dtype='object')"
      ]
     },
     "execution_count": 20,
     "metadata": {},
     "output_type": "execute_result"
    }
   ],
   "source": [
    "data6 = data5.drop({'State Code_x', 'County Code_x', 'Date', 'Defining Site', \n",
    "                    'Number of Sites Reporting', 'Date Local', 'State Code_y', 'County Code_y',\n",
    "                   'StateNum', 'CountyNum', 'Division'}, axis=1)\n",
    "data6.columns"
   ]
  },
  {
   "cell_type": "code",
   "execution_count": 22,
   "metadata": {},
   "outputs": [
    {
     "data": {
      "text/plain": [
       "Index(['State', 'County', 'AQI', 'Category', 'Defining Parameter', 'Year',\n",
       "       'Month', 'Day', 'Total Emissions', 'CO2', 'Methane', 'Nitrous Oxide',\n",
       "       'HFC', 'PFC', 'SF6', 'NF3', 'Other Fluorane', 'HFE',\n",
       "       'Short Lived Compounds', 'Other GHG', 'Biogenic CO2',\n",
       "       'Stationary Combustion', 'Income', 'Region', 'Population',\n",
       "       'pp_consumed_MMBtu', 'pp_net_gen_MWh', 'Average Temperature',\n",
       "       'Average Air Pressure', 'Average Humidity', 'Average Windspeed'],\n",
       "      dtype='object')"
      ]
     },
     "execution_count": 22,
     "metadata": {},
     "output_type": "execute_result"
    }
   ],
   "source": [
    "data6.columns"
   ]
  },
  {
   "cell_type": "code",
   "execution_count": 23,
   "metadata": {},
   "outputs": [],
   "source": [
    "data6.to_csv(\"data_merged.csv\")"
   ]
  },
  {
   "cell_type": "code",
   "execution_count": null,
   "metadata": {},
   "outputs": [],
   "source": [
    "def missing_density(data, var):\n",
    "    return (data[var].isnull()).sum()/data.shape[0]"
   ]
  },
  {
   "cell_type": "code",
   "execution_count": null,
   "metadata": {},
   "outputs": [],
   "source": [
    "missing_density(data5, \"Population\")"
   ]
  },
  {
   "cell_type": "code",
   "execution_count": null,
   "metadata": {},
   "outputs": [],
   "source": [
    "aqi.columns"
   ]
  },
  {
   "cell_type": "code",
   "execution_count": null,
   "metadata": {},
   "outputs": [],
   "source": [
    "pop.columns"
   ]
  },
  {
   "cell_type": "code",
   "execution_count": null,
   "metadata": {},
   "outputs": [],
   "source": [
    "aqi_pop = pd.merge(aqi, pop, on=['State', 'County', 'Year'], how='left')\n",
    "#aqi_pop = pd.merge(aqi, pop, on=['State', 'County', 'Year'], how='outer')\n",
    "print(len(aqi))\n",
    "print(len(pop))\n",
    "print(len(aqi_pop))"
   ]
  },
  {
   "cell_type": "code",
   "execution_count": null,
   "metadata": {},
   "outputs": [],
   "source": [
    "query = '''SELECT State, County FROM aqi_pop WHERE Population IS NULL GROUP BY State, County'''\n",
    "check = ps.sqldf(query=query)\n",
    "check"
   ]
  }
 ],
 "metadata": {
  "kernelspec": {
   "display_name": "Python 3",
   "language": "python",
   "name": "python3"
  },
  "language_info": {
   "codemirror_mode": {
    "name": "ipython",
    "version": 3
   },
   "file_extension": ".py",
   "mimetype": "text/x-python",
   "name": "python",
   "nbconvert_exporter": "python",
   "pygments_lexer": "ipython3",
   "version": "3.7.1"
  }
 },
 "nbformat": 4,
 "nbformat_minor": 2
}
