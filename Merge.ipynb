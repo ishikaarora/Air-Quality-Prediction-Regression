{
 "cells": [
  {
   "cell_type": "code",
   "execution_count": 1,
   "metadata": {},
   "outputs": [
    {
     "name": "stderr",
     "output_type": "stream",
     "text": [
      "/home/user1/miniconda3/lib/python3.5/importlib/_bootstrap.py:222: RuntimeWarning: numpy.dtype size changed, may indicate binary incompatibility. Expected 96, got 88\n",
      "  return f(*args, **kwds)\n"
     ]
    }
   ],
   "source": [
    "import numpy as np\n",
    "import pandas as pd"
   ]
  },
  {
   "cell_type": "code",
   "execution_count": 18,
   "metadata": {
    "collapsed": true
   },
   "outputs": [],
   "source": [
    "aqi = pd.read_csv(\"aqi_2016.csv\")\n",
    "ghg = pd.read_csv(\"ghg_2016.csv\")\n",
    "income = pd.read_csv(\"income_2016.csv\")\n",
    "pop = pd.read_csv(\"population_2016.csv\")\n",
    "plant = pd.read_csv(\"powerplant_2016.csv\")\n",
    "weather = pd.read_csv(\"EPA_weather_2016.csv\")"
   ]
  },
  {
   "cell_type": "code",
   "execution_count": 19,
   "metadata": {},
   "outputs": [
    {
     "data": {
      "text/plain": [
       "Index(['State', 'County', 'Date Local', 'State Code', 'County Code',\n",
       "       'Average Temperature', 'Year', 'Month', 'Day', 'Average Air Pressure',\n",
       "       'Average Humidity', 'Average Windspeed'],\n",
       "      dtype='object')"
      ]
     },
     "execution_count": 19,
     "metadata": {},
     "output_type": "execute_result"
    }
   ],
   "source": [
    "weather.columns"
   ]
  },
  {
   "cell_type": "code",
   "execution_count": 20,
   "metadata": {
    "collapsed": true
   },
   "outputs": [],
   "source": [
    "data0 = aqi\n",
    "data1 = pd.merge(data0, ghg, how=\"left\", on = [\"Year\", \"State\", \"County\"])\n",
    "data2 = pd.merge(data1, income, how=\"left\", on = [\"Year\", \"State\", \"County\"])\n",
    "data3 = pd.merge(data2, pop, how=\"left\", on = [\"Year\", \"State\", \"County\"])\n",
    "data4 = pd.merge(data3, plant, how=\"left\", on = [\"Year\", \"State\", \"County\", \"Month\"])\n",
    "data5 = pd.merge(weather, data4, how=\"left\", on=[\"Year\", \"State\", \"County\", \"Month\", \"Day\"])"
   ]
  },
  {
   "cell_type": "code",
   "execution_count": 33,
   "metadata": {},
   "outputs": [
    {
     "data": {
      "text/plain": [
       "Index(['State', 'County', 'Date Local', 'State Code_x', 'County Code_x',\n",
       "       'Average Temperature', 'Year', 'Month', 'Day', 'Average Air Pressure',\n",
       "       'Average Humidity', 'Average Windspeed', 'State Code_y',\n",
       "       'County Code_y', 'Date', 'AQI', 'Category', 'Defining Parameter',\n",
       "       'Defining Site', 'Number of Sites Reporting', 'Total Emissions', 'CO2',\n",
       "       'Methane', 'Nitrous Oxide', 'HFC', 'PFC', 'SF6', 'NF3',\n",
       "       'Other Fluorane', 'HFE', 'Short Lived Compounds', 'Other GHG',\n",
       "       'Biogenic CO2', 'Stationary Combustion', 'Income', 'Region', 'Division',\n",
       "       'StateNum', 'CountyNum', 'Population', 'pp_consumed_MMBtu',\n",
       "       'pp_net_gen_MWh'],\n",
       "      dtype='object')"
      ]
     },
     "execution_count": 33,
     "metadata": {},
     "output_type": "execute_result"
    }
   ],
   "source": [
    "data5.columns"
   ]
  },
  {
   "cell_type": "code",
   "execution_count": 32,
   "metadata": {},
   "outputs": [],
   "source": [
    "data5.to_csv(\"data_merged.csv\")"
   ]
  },
  {
   "cell_type": "code",
   "execution_count": 23,
   "metadata": {
    "collapsed": true
   },
   "outputs": [],
   "source": [
    "def missing_density(data, var):\n",
    "    return (data[var].isnull()).sum()/data.shape[0]"
   ]
  },
  {
   "cell_type": "code",
   "execution_count": 34,
   "metadata": {},
   "outputs": [
    {
     "data": {
      "text/plain": [
       "0.07424225617703337"
      ]
     },
     "execution_count": 34,
     "metadata": {},
     "output_type": "execute_result"
    }
   ],
   "source": [
    "missing_density(data5, \"Population\")"
   ]
  },
  {
   "cell_type": "code",
   "execution_count": null,
   "metadata": {
    "collapsed": true
   },
   "outputs": [],
   "source": []
  }
 ],
 "metadata": {
  "kernelspec": {
   "display_name": "Python 3",
   "language": "python",
   "name": "python3"
  },
  "language_info": {
   "codemirror_mode": {
    "name": "ipython",
    "version": 3
   },
   "file_extension": ".py",
   "mimetype": "text/x-python",
   "name": "python",
   "nbconvert_exporter": "python",
   "pygments_lexer": "ipython3",
   "version": "3.5.5"
  }
 },
 "nbformat": 4,
 "nbformat_minor": 2
}
