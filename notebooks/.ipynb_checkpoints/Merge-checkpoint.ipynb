{
 "cells": [
  {
   "cell_type": "code",
   "execution_count": 1,
   "metadata": {},
   "outputs": [
    {
     "name": "stdout",
     "output_type": "stream",
     "text": [
      "/Users/tessleggio/GoogleDrive/GeorgiaTech/2018-Fall/01-ISYE-6414/6414Project/cleaned_data\n"
     ]
    }
   ],
   "source": [
    "import os\n",
    "os.chdir(\"/Users/tessleggio/GoogleDrive/GeorgiaTech/2018-Fall/01-ISYE-6414/6414Project/cleaned_data\")\n",
    "print(os.getcwd())"
   ]
  },
  {
   "cell_type": "code",
   "execution_count": 2,
   "metadata": {},
   "outputs": [],
   "source": [
    "import numpy as np\n",
    "import pandas as pd\n",
    "import pandasql as ps"
   ]
  },
  {
   "cell_type": "code",
   "execution_count": 3,
   "metadata": {},
   "outputs": [
    {
     "data": {
      "text/plain": [
       "\"query = '''SELECT DISTINCT State, County FROM aqi'''\\naqi_counties = ps.sqldf(query=query)\\nprint('aqi',len(aqi_counties))\\n\\nquery = '''SELECT DISTINCT State, County FROM ghg'''\\nghg_counties = ps.sqldf(query=query)\\nprint('ghg',len(ghg_counties))\\n\\nquery = '''SELECT DISTINCT State, County FROM income'''\\nincome_counties = ps.sqldf(query=query)\\nprint('income',len(income_counties))\\n\\nquery = '''SELECT DISTINCT State, County FROM pop'''\\npop_counties = ps.sqldf(query=query)\\nprint('pop',len(pop_counties))\\n\\nquery = '''SELECT DISTINCT State, County FROM plant'''\\nplant_counties = ps.sqldf(query=query)\\nprint('plant',len(plant_counties))\\n\\nquery = '''SELECT DISTINCT State, County FROM weather'''\\nweather_counties = ps.sqldf(query=query)\\nprint('weather',len(weather_counties))\""
      ]
     },
     "execution_count": 3,
     "metadata": {},
     "output_type": "execute_result"
    }
   ],
   "source": [
    "\"\"\"query = '''SELECT DISTINCT State, County FROM aqi'''\n",
    "aqi_counties = ps.sqldf(query=query)\n",
    "print('aqi',len(aqi_counties))\n",
    "\n",
    "query = '''SELECT DISTINCT State, County FROM ghg'''\n",
    "ghg_counties = ps.sqldf(query=query)\n",
    "print('ghg',len(ghg_counties))\n",
    "\n",
    "query = '''SELECT DISTINCT State, County FROM income'''\n",
    "income_counties = ps.sqldf(query=query)\n",
    "print('income',len(income_counties))\n",
    "\n",
    "query = '''SELECT DISTINCT State, County FROM pop'''\n",
    "pop_counties = ps.sqldf(query=query)\n",
    "print('pop',len(pop_counties))\n",
    "\n",
    "query = '''SELECT DISTINCT State, County FROM plant'''\n",
    "plant_counties = ps.sqldf(query=query)\n",
    "print('plant',len(plant_counties))\n",
    "\n",
    "query = '''SELECT DISTINCT State, County FROM weather'''\n",
    "weather_counties = ps.sqldf(query=query)\n",
    "print('weather',len(weather_counties))\"\"\""
   ]
  },
  {
   "cell_type": "code",
   "execution_count": 4,
   "metadata": {},
   "outputs": [],
   "source": [
    "stop = True"
   ]
  },
  {
   "cell_type": "code",
   "execution_count": null,
   "metadata": {},
   "outputs": [],
   "source": [
    "os.chdir(\"/Users/tessleggio/GoogleDrive/GeorgiaTech/2018-Fall/01-ISYE-6414/6414Project/cleaned_data\")\n",
    "aqi = pd.read_csv(\"aqi_2016.csv\")\n",
    "ghg = pd.read_csv(\"ghg_2016.csv\")\n",
    "income = pd.read_csv(\"income_2016.csv\")\n",
    "pop = pd.read_csv(\"population_2016.csv\")\n",
    "plant = pd.read_csv(\"powerplant_2016.csv\")\n",
    "weather = pd.read_csv(\"EPA_weather_2016.csv\")\n",
    "\n",
    "os.chdir(\"/Users/tessleggio/GoogleDrive/GeorgiaTech/2018-Fall/01-ISYE-6414/6414Project/Github/Air-Quality-Prediction-Regression\")\n",
    "weather_meso = pd.read_csv(\"data/weather_data.csv\",index_col=0)\n",
    "\n",
    "NumCensusAreas = pd.read_csv(\"/Users/tessleggio/GoogleDrive/GeorgiaTech/2018-Fall/01-ISYE-6414/6414Project/StatesNumCensusAreas.csv\", header=0)\n",
    "NumCensusAreas.head()\n",
    "\n",
    "states = pd.read_csv(\"data/States.csv\")"
   ]
  },
  {
   "cell_type": "code",
   "execution_count": null,
   "metadata": {},
   "outputs": [],
   "source": [
    "weather_meso['Date'] = pd.to_datetime(weather_meso['Date'])\n",
    "weather_meso['Year'] = weather_meso['Date'].dt.year\n",
    "weather_meso['Month'] = weather_meso['Date'].dt.month\n",
    "weather_meso['Day'] = weather_meso['Date'].dt.day\n",
    "\n",
    "weather_meso.head()"
   ]
  },
  {
   "cell_type": "code",
   "execution_count": null,
   "metadata": {},
   "outputs": [],
   "source": [
    "weather_meso = pd.merge(weather_meso, states, how=\"left\", left_on=\"State\", right_on=\"Abbreviation\")\n",
    "weather_meso.drop({'State_x','Date','Unnamed: 0.1','Abbreviation'}, axis=1, inplace=True)\n",
    "weather_meso.rename({'air_temp_set_1':'Temperature', 'altimeter_set_1':'Altimeter', 'precip_accum_24_hour_set_1':'Precipitation_24hrAccum','relative_humidity_set_1':'RelHumidity','wind_speed_set_1':'WindSpeed','State_y':'State'},axis=1,inplace=True)\n",
    "weather_meso.head()"
   ]
  },
  {
   "cell_type": "code",
   "execution_count": null,
   "metadata": {},
   "outputs": [],
   "source": [
    "#weather_meso = weather_meso.drop({'Date'}, axis=1)"
   ]
  },
  {
   "cell_type": "code",
   "execution_count": null,
   "metadata": {},
   "outputs": [],
   "source": [
    "weather.head()"
   ]
  },
  {
   "cell_type": "code",
   "execution_count": null,
   "metadata": {},
   "outputs": [],
   "source": [
    "aqi['State'] = aqi['State'].str.strip()\n",
    "aqi['County'] = aqi['County'].str.strip()\n",
    "ghg['State'] = ghg['State'].str.strip()\n",
    "ghg['County'] = ghg['County'].str.strip()\n",
    "income['State'] = income['State'].str.strip()\n",
    "income['County'] = income['County'].str.strip()\n",
    "pop['State'] = pop['State'].str.strip()\n",
    "pop['County'] = pop['County'].str.strip()\n",
    "plant['State'] = plant['State'].str.strip()\n",
    "plant['County'] = plant['County'].str.strip()\n",
    "weather['State'] = weather['State'].str.strip()\n",
    "weather['County'] = weather['County'].str.strip()\n",
    "weather_meso['State'] = weather_meso['State'].str.strip()\n",
    "weather_meso['County'] = weather_meso['County'].str.strip()\n",
    "\n",
    "weather_meso['State'] = weather_meso['State'].str.lower()\n",
    "weather_meso['County'] = weather_meso['County'].str.lower()\n",
    "\n",
    "aqi['County'] = aqi['County'].str.replace('-',' ', regex=True)\n",
    "aqi['County'] = aqi['County'].str.replace('city and borough','', regex=True)\n",
    "aqi['County'] = aqi['County'].str.replace(' borough','', regex=True)\n",
    "aqi['County'] = aqi['County'].str.replace('\\(city\\)','city', regex=True)\n",
    "aqi['County'] = aqi['County'].str.replace('municipality','', regex=True)\n",
    "aqi['County'] = aqi['County'].str.replace('division','', regex=True)\n",
    "aqi['County'] = aqi['County'].str.replace('census area','', regex=True)\n",
    "aqi['County'] = aqi['County'].str.replace('parish','', regex=True)\n",
    "aqi['County'] = aqi['County'].str.replace('st[.]','st ', regex=True)\n",
    "aqi['County'] = aqi['County'].str.replace('saint  ','st ', regex=True)\n",
    "aqi['County'] = aqi['County'].str.replace(' ','', regex=True)\n",
    "aqi = aqi.dropna(subset=['State', 'County'])\n",
    "aqi['County'] = aqi['County'].str.strip()\n",
    "\n",
    "\n",
    "ghg['County'] = ghg['County'].str.replace('-',' ', regex=True)\n",
    "ghg['County'] = ghg['County'].str.replace('city and borough','', regex=True)\n",
    "ghg['County'] = ghg['County'].str.replace('\\(city\\)','city', regex=True)\n",
    "ghg['County'] = ghg['County'].str.replace(' borough','', regex=True)\n",
    "ghg['County'] = ghg['County'].str.replace('municipality','', regex=True)\n",
    "ghg['County'] = ghg['County'].str.replace('division','', regex=True)\n",
    "ghg['County'] = ghg['County'].str.replace('census area','', regex=True)\n",
    "ghg['County'] = ghg['County'].str.replace('parish','', regex=True)\n",
    "ghg['County'] = ghg['County'].str.replace('st[.]','st ', regex=True)\n",
    "ghg['County'] = ghg['County'].str.replace('saint ','st ', regex=True)\n",
    "ghg['County'] = ghg['County'].str.replace(' ','', regex=True)\n",
    "ghg = ghg.dropna(subset=['State', 'County'])\n",
    "ghg['County'] = ghg['County'].str.strip()\n",
    "\n",
    "\n",
    "income['County'] = income['County'].str.replace('-',' ', regex=True)\n",
    "income['County'] = income['County'].str.replace('city and borough','', regex=True)\n",
    "income['County'] = income['County'].str.replace('\\(city\\)','city', regex=True)\n",
    "income['County'] = income['County'].str.replace(' borough','', regex=True)\n",
    "income['County'] = income['County'].str.replace('municipality','', regex=True)\n",
    "income['County'] = income['County'].str.replace('division','', regex=True)\n",
    "income['County'] = income['County'].str.replace('census area','', regex=True)\n",
    "income['County'] = income['County'].str.replace('parish','', regex=True)\n",
    "income['County'] = income['County'].str.replace('st[.]','st ', regex=True)\n",
    "income['County'] = income['County'].str.replace('saint ','st ', regex=True)\n",
    "income['County'] = income['County'].str.replace(' ','', regex=True)\n",
    "income = income.dropna(subset=['State', 'County'])\n",
    "income['County'] = income['County'].str.strip()\n",
    "\n",
    "\n",
    "pop['County'] = pop['County'].str.replace('-',' ', regex=True)\n",
    "pop['County'] = pop['County'].str.replace('city and borough','', regex=True)\n",
    "pop['County'] = pop['County'].str.replace('\\(city\\)','city', regex=True)\n",
    "pop['County'] = pop['County'].str.replace(' borough','', regex=True)\n",
    "pop['County'] = pop['County'].str.replace('municipality','', regex=True)\n",
    "pop['County'] = pop['County'].str.replace('division','', regex=True)\n",
    "pop['County'] = pop['County'].str.replace('census area','', regex=True)\n",
    "pop['County'] = pop['County'].str.replace('parish','', regex=True)\n",
    "pop['County'] = pop['County'].str.replace('st[.]','st ', regex=True)\n",
    "pop['County'] = pop['County'].str.replace('saint ','st ', regex=True)\n",
    "pop['County'] = pop['County'].str.replace(' ','', regex=True)\n",
    "pop = pop.dropna(subset=['State', 'County'])\n",
    "pop['County'] = pop['County'].str.strip()\n",
    "\n",
    "\n",
    "plant['County'] = plant['County'].str.replace('-',' ', regex=True)\n",
    "plant['County'] = plant['County'].str.replace('city and borough','', regex=True)\n",
    "plant['County'] = plant['County'].str.replace('\\(city\\)','city', regex=True)\n",
    "plant['County'] = plant['County'].str.replace(' borough','', regex=True)\n",
    "plant['County'] = plant['County'].str.replace('municipality','', regex=True)\n",
    "plant['County'] = plant['County'].str.replace('division','', regex=True)\n",
    "plant['County'] = plant['County'].str.replace('census area','', regex=True)\n",
    "plant['County'] = plant['County'].str.replace('parish','', regex=True)\n",
    "plant['County'] = plant['County'].str.replace('st[.]','st ', regex=True)\n",
    "plant['County'] = plant['County'].str.replace('saint ','st ', regex=True)\n",
    "plant['County'] = plant['County'].str.replace(' ','', regex=True)\n",
    "plant = plant.dropna(subset=['State', 'County'])\n",
    "plant['County'] = plant['County'].str.strip()\n",
    "\n",
    "\n",
    "weather['County'] = weather['County'].str.replace('-',' ', regex=True)\n",
    "weather['County'] = weather['County'].str.replace('city and borough','', regex=True)\n",
    "weather['County'] = weather['County'].str.replace('\\(city\\)','city', regex=True)\n",
    "weather['County'] = weather['County'].str.replace(' borough','', regex=True)\n",
    "weather['County'] = weather['County'].str.replace('municipality','', regex=True)\n",
    "weather['County'] = weather['County'].str.replace('division','', regex=True)\n",
    "weather['County'] = weather['County'].str.replace('census area','', regex=True)\n",
    "weather['County'] = weather['County'].str.replace('parish','', regex=True)\n",
    "weather['County'] = weather['County'].str.replace('st[.]','st ', regex=True)\n",
    "weather['County'] = weather['County'].str.replace('saint ','st ', regex=True)\n",
    "weather['County'] = weather['County'].str.replace(' ','', regex=True)\n",
    "weather = weather.dropna(subset=['State', 'County'])\n",
    "weather['County'] = weather['County'].str.strip()\n",
    "\n",
    "weather_meso['County'] = weather_meso['County'].str.replace('-',' ', regex=True)\n",
    "weather_meso['County'] = weather_meso['County'].str.replace('city and borough','', regex=True)\n",
    "weather_meso['County'] = weather_meso['County'].str.replace('\\(city\\)','city', regex=True)\n",
    "weather_meso['County'] = weather_meso['County'].str.replace(' borough','', regex=True)\n",
    "weather_meso['County'] = weather_meso['County'].str.replace('municipality','', regex=True)\n",
    "weather_meso['County'] = weather_meso['County'].str.replace('division','', regex=True)\n",
    "weather_meso['County'] = weather_meso['County'].str.replace('census area','', regex=True)\n",
    "weather_meso['County'] = weather_meso['County'].str.replace('parish','', regex=True)\n",
    "weather_meso['County'] = weather_meso['County'].str.replace('st[.]','st ', regex=True)\n",
    "weather_meso['County'] = weather_meso['County'].str.replace('saint ','st ', regex=True)\n",
    "weather_meso['County'] = weather_meso['County'].str.replace(' ','', regex=True)\n",
    "weather_meso = weather_meso.dropna(subset=['State', 'County'])\n",
    "weather_meso['County'] = weather_meso['County'].str.strip()\n",
    "\n",
    "\n",
    "aqi_cty = aqi[['State','County']].drop_duplicates()\n",
    "aqi_cty['aqi'] = 1\n",
    "ghg_cty = ghg[['State','County']].drop_duplicates()\n",
    "ghg_cty['ghg'] = 1\n",
    "income_cty = income[['State','County']].drop_duplicates()\n",
    "income_cty['income'] = 1\n",
    "pop_cty = pop[['State','County']].drop_duplicates()\n",
    "pop_cty['pop'] = 1\n",
    "plant_cty = plant[['State','County']].drop_duplicates()\n",
    "plant_cty['plant'] = 1\n",
    "weather_cty = weather[['State','County']].drop_duplicates()\n",
    "weather_cty['weather_epa'] = 1\n",
    "weather_meso_cty = weather_meso[['State','County']].drop_duplicates()\n",
    "weather_meso_cty['weather_meso'] = 1"
   ]
  },
  {
   "cell_type": "code",
   "execution_count": null,
   "metadata": {},
   "outputs": [],
   "source": [
    "check = pd.merge(aqi_cty, ghg_cty, on=['State', 'County'], how='outer')\n",
    "check = pd.merge(check, income_cty, on=['State', 'County'], how='outer')\n",
    "check = pd.merge(check, pop_cty, on=['State', 'County'], how='outer')\n",
    "check = pd.merge(check, plant_cty, on=['State', 'County'], how='outer')\n",
    "check = pd.merge(check, weather_cty, on=['State', 'County'], how='outer')\n",
    "check = pd.merge(check, weather_meso_cty, on=['State', 'County'], how='outer')\n",
    "check = check.sort_values(by=['State', 'County'], ascending=True)\n",
    "\n",
    "display(check.head(10))\n",
    "\n",
    "check.to_csv(\"data_merged_checkcounties.csv\")"
   ]
  },
  {
   "cell_type": "code",
   "execution_count": null,
   "metadata": {},
   "outputs": [],
   "source": [
    "data0 = aqi\n",
    "data1 = pd.merge(data0, ghg, how=\"left\", on = [\"Year\", \"State\", \"County\"])\n",
    "data2 = pd.merge(data1, income, how=\"left\", on = [\"Year\", \"State\", \"County\"])\n",
    "data3 = pd.merge(data2, pop, how=\"left\", on = [\"Year\", \"State\", \"County\"])\n",
    "data4 = pd.merge(data3, plant, how=\"left\", on = [\"Year\", \"State\", \"County\", \"Month\"])\n",
    "data5 = pd.merge(data4, weather_meso, how=\"left\", on=[\"Year\", \"State\", \"County\", \"Month\", \"Day\"])\n",
    "data7 = pd.merge(weather_meso, data4, how=\"left\", on=[\"Year\", \"State\", \"County\", \"Month\", \"Day\"])\n",
    "\n",
    "data6 = data5.drop({'Date', 'Defining Site', \n",
    "                    'Number of Sites Reporting',\n",
    "                   'StateNum', 'CountyNum', 'Division'}, axis=1)\n",
    "\n",
    "data8 = data7.drop({'Date', 'Defining Site', \n",
    "                    'Number of Sites Reporting',\n",
    "                   'StateNum', 'CountyNum', 'Division'}, axis=1)\n",
    "\n",
    "data6.to_csv(\"Data Cleaning/data_merged_meso.csv\")\n",
    "data8.to_csv(\"Data Cleaning/data_merged_meso_weather-dropped.csv\")\n",
    "print(len(data6))\n",
    "print(len(data8))\n",
    "\n",
    "display(data6.head(20))\n",
    "display(data8.head())"
   ]
  },
  {
   "cell_type": "code",
   "execution_count": null,
   "metadata": {},
   "outputs": [],
   "source": [
    "data0 = aqi\n",
    "print('aqi has',len(data0), 'lines of data')\n",
    "print('aqi has',len(data0)-len(data0.dropna()), 'missing lines of data\\n')\n",
    "\n",
    "data1 = pd.merge(data0, ghg, how=\"left\", on = [\"Year\", \"State\", \"County\"])\n",
    "print('aqi+ghg has',len(data1), 'lines of data')\n",
    "print('aqi+ghg has',len(data1)-len(data1.dropna()), 'missing lines of data\\n')\n",
    "\n",
    "data2 = pd.merge(data1, income, how=\"left\", on = [\"Year\", \"State\", \"County\"])\n",
    "print('aqi+ghg+income has',len(data2), 'lines of data')\n",
    "print('aqi+ghg+income has',len(data2)-len(data2.dropna()), 'missing lines of data\\n')\n",
    "\n",
    "data3 = pd.merge(data2, pop, how=\"left\", on = [\"Year\", \"State\", \"County\"])\n",
    "print('aqi+ghg+income+pop has',len(data3), 'lines of data')\n",
    "print('aqi+ghg+income+pop has',len(data3)-len(data3.dropna()), 'missing lines of data\\n')\n",
    "\n",
    "data4 = pd.merge(data3, plant, how=\"left\", on = [\"Year\", \"State\", \"County\", \"Month\"])\n",
    "print('aqi+ghg+income+pop+plant has',len(data4), 'lines of data')\n",
    "print('aqi+ghg+income+pop+plant has',len(data4)-len(data4.dropna()), 'missing lines of data\\n')\n",
    "\n",
    "data5 = pd.merge(data4, weather, how=\"left\", on=[\"Year\", \"State\", \"County\", \"Month\", \"Day\"])\n",
    "print('aqi+ghg+income+pop+plant+weather has',len(data5), 'lines of data')\n",
    "print('aqi+ghg+income+pop+plant+weather has',len(data5)-len(data5.dropna()), 'missing lines of data\\n')\n",
    "\n",
    "data7 = pd.merge(weather, data4, how=\"left\", on=[\"Year\", \"State\", \"County\", \"Month\", \"Day\"])\n",
    "\n",
    "data6 = data5.drop({'State Code_x', 'County Code_x', 'Date', 'Defining Site', \n",
    "                    'Number of Sites Reporting', 'Date Local', 'State Code_y', 'County Code_y',\n",
    "                   'StateNum', 'CountyNum', 'Division'}, axis=1)\n",
    "\n",
    "data8 = data7.drop({'State Code_x', 'County Code_x', 'Date', 'Defining Site', \n",
    "                    'Number of Sites Reporting', 'Date Local', 'State Code_y', 'County Code_y',\n",
    "                   'StateNum', 'CountyNum', 'Division'}, axis=1)"
   ]
  },
  {
   "cell_type": "code",
   "execution_count": null,
   "metadata": {},
   "outputs": [],
   "source": [
    "data6.to_csv(\"Data Cleaning/data_merged_epa.csv\")\n",
    "data8.to_csv(\"Data Cleaning/data_merged_epa_weather-dropped.csv\")\n",
    "print(len(data6))\n",
    "print(len(data8))"
   ]
  },
  {
   "cell_type": "code",
   "execution_count": null,
   "metadata": {},
   "outputs": [],
   "source": [
    "query = ''' SELECT State, County, [Average Temperature], [Average Air Pressure], [Average Humidity], [Average Windspeed]\n",
    "            FROM data6 \n",
    "            WHERE [Average Temperature] IS NOT NULL\n",
    "            AND [Average Air Pressure] IS NOT NULL\n",
    "            AND [Average Humidity] IS NOT NULL\n",
    "            AND [Average Windspeed] IS NOT NULL\n",
    "            '''\n",
    "check = ps.sqldf(query=query)\n",
    "print('all aqi data =',len(data6))\n",
    "print('all weather data present =',len(check))\n",
    "print('missing =', len(data6) - len(check))\n",
    "check.head()"
   ]
  },
  {
   "cell_type": "code",
   "execution_count": null,
   "metadata": {},
   "outputs": [],
   "source": [
    "query = '''SELECT DISTINCT State, County \n",
    "            FROM data6 \n",
    "            WHERE [Average Temperature] IS NOT NULL\n",
    "            AND [Average Air Pressure] IS NOT NULL\n",
    "            AND [Average Humidity] IS NOT NULL\n",
    "            AND [Average Windspeed] IS NOT NULL'''\n",
    "check2 = ps.sqldf(query=query)\n",
    "print(len(check2))"
   ]
  },
  {
   "cell_type": "code",
   "execution_count": null,
   "metadata": {},
   "outputs": [],
   "source": [
    "check2.head()"
   ]
  },
  {
   "cell_type": "code",
   "execution_count": null,
   "metadata": {},
   "outputs": [],
   "source": [
    "query = '''SELECT DISTINCT State, County,[Average Temperature],[Average Air Pressure],[Average Humidity],[Average Windspeed]\n",
    "            FROM data6 \n",
    "            WHERE [Average Temperature] IS NULL\n",
    "            OR [Average Air Pressure] IS NULL\n",
    "            OR [Average Humidity] IS NULL\n",
    "            OR [Average Windspeed] IS NULL'''\n",
    "missingweatherEPA = ps.sqldf(query=query)\n",
    "print(len(missingweatherEPA))"
   ]
  },
  {
   "cell_type": "code",
   "execution_count": null,
   "metadata": {},
   "outputs": [],
   "source": [
    "#missingweatherEPA.to_csv(\"missingEPA.csv\")\n",
    "#check2.to_csv(\"haveEPA.csv\")"
   ]
  },
  {
   "cell_type": "code",
   "execution_count": null,
   "metadata": {},
   "outputs": [],
   "source": [
    "#Checking Number of Counties for each State\n",
    "query = \"\"\"SELECT State, COUNT(DISTINCT County) as NumCensusAreas from data6 GROUP BY State ORDER BY State ASC\"\"\"\n",
    "check = ps.sqldf(query=query)"
   ]
  },
  {
   "cell_type": "code",
   "execution_count": null,
   "metadata": {},
   "outputs": [],
   "source": [
    "m = 5\n",
    "n = 10\n",
    "\n",
    "display(check[m:n])\n",
    "display(NumCensusAreas[m:n])"
   ]
  },
  {
   "cell_type": "code",
   "execution_count": null,
   "metadata": {},
   "outputs": [],
   "source": [
    "diff  = pd.merge(check, NumCensusAreas, on='State', how='left')\n",
    "diff = diff.rename({'NumCensusAreas_x':'check', 'NumCensusAreas_y':'NumCensusAreas'}, axis=1)\n",
    "diff['diff'] = diff['check'] - diff['NumCensusAreas']\n",
    "diff[diff['diff'] > 0]"
   ]
  },
  {
   "cell_type": "code",
   "execution_count": null,
   "metadata": {},
   "outputs": [],
   "source": [
    "assert stop != True"
   ]
  },
  {
   "cell_type": "markdown",
   "metadata": {},
   "source": [
    "----------"
   ]
  },
  {
   "cell_type": "code",
   "execution_count": null,
   "metadata": {},
   "outputs": [],
   "source": [
    "def missing_density(data, var):\n",
    "    return (data[var].isnull()).sum()/data.shape[0]"
   ]
  },
  {
   "cell_type": "code",
   "execution_count": null,
   "metadata": {},
   "outputs": [],
   "source": [
    "missing_density(data5, \"Population\")"
   ]
  },
  {
   "cell_type": "code",
   "execution_count": null,
   "metadata": {},
   "outputs": [],
   "source": [
    "aqi.columns"
   ]
  },
  {
   "cell_type": "code",
   "execution_count": null,
   "metadata": {},
   "outputs": [],
   "source": [
    "pop.columns"
   ]
  },
  {
   "cell_type": "code",
   "execution_count": null,
   "metadata": {},
   "outputs": [],
   "source": [
    "aqi_pop = pd.merge(aqi, pop, on=['State', 'County', 'Year'], how='left')\n",
    "#aqi_pop = pd.merge(aqi, pop, on=['State', 'County', 'Year'], how='outer')\n",
    "print(len(aqi))\n",
    "print(len(pop))\n",
    "print(len(aqi_pop))"
   ]
  },
  {
   "cell_type": "code",
   "execution_count": null,
   "metadata": {},
   "outputs": [],
   "source": [
    "query = '''SELECT State, County FROM aqi_pop WHERE Population IS NULL GROUP BY State, County'''\n",
    "check = ps.sqldf(query=query)\n",
    "check"
   ]
  }
 ],
 "metadata": {
  "kernelspec": {
   "display_name": "Python 3",
   "language": "python",
   "name": "python3"
  },
  "language_info": {
   "codemirror_mode": {
    "name": "ipython",
    "version": 3
   },
   "file_extension": ".py",
   "mimetype": "text/x-python",
   "name": "python",
   "nbconvert_exporter": "python",
   "pygments_lexer": "ipython3",
   "version": "3.7.1"
  }
 },
 "nbformat": 4,
 "nbformat_minor": 2
}
