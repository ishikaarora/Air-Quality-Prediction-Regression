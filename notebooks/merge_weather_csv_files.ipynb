{
 "cells": [
  {
   "cell_type": "code",
   "execution_count": 41,
   "metadata": {},
   "outputs": [],
   "source": [
    "import pandas as pd\n",
    "import numpy as np"
   ]
  },
  {
   "cell_type": "code",
   "execution_count": 4,
   "metadata": {},
   "outputs": [],
   "source": [
    "filepath = \"weather/output/\""
   ]
  },
  {
   "cell_type": "code",
   "execution_count": 106,
   "metadata": {},
   "outputs": [
    {
     "data": {
      "text/plain": [
       "['weather_data_sec_28.csv',\n",
       " '.DS_Store',\n",
       " 'weather_data_1.csv',\n",
       " 'weather_data_27.csv',\n",
       " 'weather_data_26.csv',\n",
       " 'weather_data_2.csv',\n",
       " 'weather_data_24.csv',\n",
       " 'weather_data_25.csv',\n",
       " 'weather_data_3.csv',\n",
       " 'weather_data_7.csv',\n",
       " 'weather_data_21.csv',\n",
       " 'weather_data_6.csv',\n",
       " 'weather_data_4.csv',\n",
       " 'weather_data_22.csv',\n",
       " 'weather_data_23.csv',\n",
       " 'weather_data_5.csv',\n",
       " 'weather_data_8.csv',\n",
       " 'weather_data_9.csv',\n",
       " 'weather_data_11.csv',\n",
       " 'weather_data_10.csv']"
      ]
     },
     "execution_count": 106,
     "metadata": {},
     "output_type": "execute_result"
    }
   ],
   "source": [
    "import os\n",
    "file_list = os.listdir(filepath)\n",
    "file_list"
   ]
  },
  {
   "cell_type": "code",
   "execution_count": 111,
   "metadata": {},
   "outputs": [
    {
     "data": {
      "text/plain": [
       "['weather_data_sec_28.csv',\n",
       " 'weather_data_1.csv',\n",
       " 'weather_data_27.csv',\n",
       " 'weather_data_26.csv',\n",
       " 'weather_data_2.csv',\n",
       " 'weather_data_24.csv',\n",
       " 'weather_data_25.csv',\n",
       " 'weather_data_3.csv',\n",
       " 'weather_data_7.csv',\n",
       " 'weather_data_21.csv',\n",
       " 'weather_data_6.csv',\n",
       " 'weather_data_4.csv',\n",
       " 'weather_data_22.csv',\n",
       " 'weather_data_23.csv',\n",
       " 'weather_data_5.csv',\n",
       " 'weather_data_8.csv',\n",
       " 'weather_data_9.csv',\n",
       " 'weather_data_11.csv',\n",
       " 'weather_data_10.csv']"
      ]
     },
     "execution_count": 111,
     "metadata": {},
     "output_type": "execute_result"
    }
   ],
   "source": [
    "file_list = [f for f in file_list if f != '.DS_Store']\n",
    "file_list"
   ]
  },
  {
   "cell_type": "code",
   "execution_count": 114,
   "metadata": {},
   "outputs": [
    {
     "name": "stdout",
     "output_type": "stream",
     "text": [
      "Total files to be read: 19\n",
      "Reading data from file : weather_data_sec_28.csv\n",
      "Reading data from file : weather_data_1.csv\n",
      "Reading data from file : weather_data_27.csv\n",
      "Reading data from file : weather_data_26.csv\n",
      "Reading data from file : weather_data_2.csv\n",
      "Reading data from file : weather_data_24.csv\n",
      "Reading data from file : weather_data_25.csv\n",
      "Reading data from file : weather_data_3.csv\n",
      "Reading data from file : weather_data_7.csv\n",
      "Reading data from file : weather_data_21.csv\n",
      "Reading data from file : weather_data_6.csv\n",
      "Reading data from file : weather_data_4.csv\n",
      "Reading data from file : weather_data_22.csv\n",
      "Reading data from file : weather_data_23.csv\n",
      "Reading data from file : weather_data_5.csv\n",
      "Reading data from file : weather_data_8.csv\n",
      "Reading data from file : weather_data_9.csv\n",
      "Reading data from file : weather_data_11.csv\n",
      "Reading data from file : weather_data_10.csv\n"
     ]
    }
   ],
   "source": [
    "weather_data = [pd.DataFrame()] * len(file_list)\n",
    "print(\"Total files to be read: {}\".format(len(weather_data)))\n",
    "for i,f in enumerate(file_list):\n",
    "    print(\"Reading data from file : {}\".format(f))\n",
    "    weather_data[i] = pd.read_csv(filepath+f)"
   ]
  },
  {
   "cell_type": "code",
   "execution_count": 88,
   "metadata": {
    "scrolled": false
   },
   "outputs": [],
   "source": [
    "# weather_data[\"County\"].unique()"
   ]
  },
  {
   "cell_type": "code",
   "execution_count": 133,
   "metadata": {},
   "outputs": [
    {
     "data": {
      "text/html": [
       "<div>\n",
       "<style scoped>\n",
       "    .dataframe tbody tr th:only-of-type {\n",
       "        vertical-align: middle;\n",
       "    }\n",
       "\n",
       "    .dataframe tbody tr th {\n",
       "        vertical-align: top;\n",
       "    }\n",
       "\n",
       "    .dataframe thead th {\n",
       "        text-align: right;\n",
       "    }\n",
       "</style>\n",
       "<table border=\"1\" class=\"dataframe\">\n",
       "  <thead>\n",
       "    <tr style=\"text-align: right;\">\n",
       "      <th></th>\n",
       "      <th>air_temp_set_1</th>\n",
       "      <th>altimeter_set_1</th>\n",
       "      <th>precip_accum_24_hour_set_1</th>\n",
       "      <th>relative_humidity_set_1</th>\n",
       "      <th>wind_speed_set_1</th>\n",
       "      <th>Date</th>\n",
       "      <th>State</th>\n",
       "      <th>County</th>\n",
       "    </tr>\n",
       "  </thead>\n",
       "  <tbody>\n",
       "    <tr>\n",
       "      <th>0</th>\n",
       "      <td>1.028333</td>\n",
       "      <td>102167.295</td>\n",
       "      <td>0.0</td>\n",
       "      <td>80.333333</td>\n",
       "      <td>2.680000</td>\n",
       "      <td>2016-01-01</td>\n",
       "      <td>OH</td>\n",
       "      <td>Wood</td>\n",
       "    </tr>\n",
       "    <tr>\n",
       "      <th>1</th>\n",
       "      <td>-1.212000</td>\n",
       "      <td>102201.160</td>\n",
       "      <td>0.0</td>\n",
       "      <td>77.000000</td>\n",
       "      <td>2.680000</td>\n",
       "      <td>2016-01-02</td>\n",
       "      <td>OH</td>\n",
       "      <td>Wood</td>\n",
       "    </tr>\n",
       "    <tr>\n",
       "      <th>2</th>\n",
       "      <td>0.840000</td>\n",
       "      <td>101219.110</td>\n",
       "      <td>0.0</td>\n",
       "      <td>84.000000</td>\n",
       "      <td>2.606667</td>\n",
       "      <td>2016-01-03</td>\n",
       "      <td>OH</td>\n",
       "      <td>Wood</td>\n",
       "    </tr>\n",
       "    <tr>\n",
       "      <th>3</th>\n",
       "      <td>2.092500</td>\n",
       "      <td>101557.750</td>\n",
       "      <td>0.0</td>\n",
       "      <td>60.250000</td>\n",
       "      <td>2.347500</td>\n",
       "      <td>2016-01-04</td>\n",
       "      <td>OH</td>\n",
       "      <td>Wood</td>\n",
       "    </tr>\n",
       "    <tr>\n",
       "      <th>4</th>\n",
       "      <td>-4.100000</td>\n",
       "      <td>102980.030</td>\n",
       "      <td>0.0</td>\n",
       "      <td>69.000000</td>\n",
       "      <td>1.608000</td>\n",
       "      <td>2016-01-05</td>\n",
       "      <td>OH</td>\n",
       "      <td>Wood</td>\n",
       "    </tr>\n",
       "  </tbody>\n",
       "</table>\n",
       "</div>"
      ],
      "text/plain": [
       "   air_temp_set_1  altimeter_set_1  precip_accum_24_hour_set_1  \\\n",
       "0        1.028333       102167.295                         0.0   \n",
       "1       -1.212000       102201.160                         0.0   \n",
       "2        0.840000       101219.110                         0.0   \n",
       "3        2.092500       101557.750                         0.0   \n",
       "4       -4.100000       102980.030                         0.0   \n",
       "\n",
       "   relative_humidity_set_1  wind_speed_set_1        Date State County  \n",
       "0                80.333333          2.680000  2016-01-01    OH   Wood  \n",
       "1                77.000000          2.680000  2016-01-02    OH   Wood  \n",
       "2                84.000000          2.606667  2016-01-03    OH   Wood  \n",
       "3                60.250000          2.347500  2016-01-04    OH   Wood  \n",
       "4                69.000000          1.608000  2016-01-05    OH   Wood  "
      ]
     },
     "execution_count": 133,
     "metadata": {},
     "output_type": "execute_result"
    }
   ],
   "source": [
    "weather = pd.DataFrame()\n",
    "for file in weather_data:\n",
    "    if not len(weather):\n",
    "        weather = file\n",
    "    else:\n",
    "        weather = weather.merge(file,how=\"outer\",on=None)\n",
    "weather.head()"
   ]
  },
  {
   "cell_type": "code",
   "execution_count": null,
   "metadata": {},
   "outputs": [],
   "source": [
    "# with open('weather_data_Ishika_400-719.csv', 'w') as f:\n",
    "#         for item in weather:\n",
    "#             f.write(\"%s\\n\" % item)"
   ]
  },
  {
   "cell_type": "code",
   "execution_count": 134,
   "metadata": {},
   "outputs": [
    {
     "data": {
      "text/plain": [
       "(116800, 8)"
      ]
     },
     "execution_count": 134,
     "metadata": {},
     "output_type": "execute_result"
    }
   ],
   "source": [
    "weather.shape"
   ]
  },
  {
   "cell_type": "code",
   "execution_count": 127,
   "metadata": {},
   "outputs": [
    {
     "data": {
      "text/plain": [
       "320"
      ]
     },
     "execution_count": 127,
     "metadata": {},
     "output_type": "execute_result"
    }
   ],
   "source": [
    "# weather['sc'] = weather['State'] +weather['County']\n",
    "# weather['sc']\n",
    "# len(weather[\"sc\"].unique())"
   ]
  },
  {
   "cell_type": "code",
   "execution_count": 135,
   "metadata": {},
   "outputs": [],
   "source": [
    "county = weather_data[0][\"County\"].unique()[0]\n",
    "mean1 = np.mean(weather[weather['County'] == county])"
   ]
  },
  {
   "cell_type": "code",
   "execution_count": 136,
   "metadata": {},
   "outputs": [],
   "source": [
    "mean2 = np.mean(weather_data[0][weather_data[0]['County'] == county])"
   ]
  },
  {
   "cell_type": "code",
   "execution_count": 137,
   "metadata": {},
   "outputs": [],
   "source": [
    "assert (mean1 == mean2).all()"
   ]
  },
  {
   "cell_type": "code",
   "execution_count": 138,
   "metadata": {},
   "outputs": [],
   "source": [
    "assert (weather.columns == weather_data[0].columns).all()"
   ]
  },
  {
   "cell_type": "code",
   "execution_count": 140,
   "metadata": {},
   "outputs": [],
   "source": [
    "weather.reset_index(drop=True,inplace=True)\n",
    "weather.to_csv(\"weather_data_Ishika_400-719.csv\", index=None,header=True)"
   ]
  },
  {
   "cell_type": "code",
   "execution_count": null,
   "metadata": {},
   "outputs": [],
   "source": []
  }
 ],
 "metadata": {
  "kernelspec": {
   "display_name": "Python 3",
   "language": "python",
   "name": "python3"
  },
  "language_info": {
   "codemirror_mode": {
    "name": "ipython",
    "version": 3
   },
   "file_extension": ".py",
   "mimetype": "text/x-python",
   "name": "python",
   "nbconvert_exporter": "python",
   "pygments_lexer": "ipython3",
   "version": "3.6.4"
  }
 },
 "nbformat": 4,
 "nbformat_minor": 2
}
