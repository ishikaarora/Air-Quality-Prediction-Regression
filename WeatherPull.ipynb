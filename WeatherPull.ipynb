{
 "cells": [
  {
   "cell_type": "code",
   "execution_count": 1,
   "metadata": {},
   "outputs": [],
   "source": [
    "from time import time\n",
    "import numpy as np\n",
    "import pandas as pd\n",
    "import matplotlib.pyplot as plt\n",
    "import pandasql as ps\n",
    "import glob\n",
    "from dateutil import parser\n",
    "from datetime import timedelta, date\n",
    "import requests\n",
    "import json"
   ]
  },
  {
   "cell_type": "code",
   "execution_count": 2,
   "metadata": {},
   "outputs": [],
   "source": [
    "mesowest_api_key = \"KzxxYow297burLSv2E54TEQhhrx7NQCfWR7\""
   ]
  },
  {
   "cell_type": "code",
   "execution_count": 3,
   "metadata": {},
   "outputs": [],
   "source": [
    "start_date = date(2016, 1, 1)\n",
    "end_date = date(2016, 12, 31)"
   ]
  },
  {
   "cell_type": "code",
   "execution_count": 4,
   "metadata": {},
   "outputs": [],
   "source": [
    " metrics = [\"air_temp_set_1\", \"altimeter_set_1\", \"wind_speed_set_1\", \"relative_humidity_set_1\", \"precip_accum_24_hour_set_1\"]"
   ]
  },
  {
   "cell_type": "code",
   "execution_count": 5,
   "metadata": {},
   "outputs": [],
   "source": [
    "#--------------------READING AND PRE-PROCESSING DAILY AQS AND WEATHER DATA-------------------\n",
    "#--------------------------------------------------------------------------------------------\n",
    "\n",
    "#data = pd.read_csv(\"data/daily_aqi_by_county_2016.csv\")\n",
    "#states = pd.read_csv(\"data/States.csv\")\n",
    "\n",
    "# for i in range(2015, 2019):\n",
    "#     data = pd.concat([data, pd.read_csv(\"data/daily_aqi_by_county_\" + str(i) + \".zip\")])    "
   ]
  },
  {
   "cell_type": "code",
   "execution_count": 6,
   "metadata": {
    "scrolled": true
   },
   "outputs": [],
   "source": [
    "counties_abbrev = pd.read_csv(\"counties_abbrev_Ishika.csv\")\n"
   ]
  },
  {
   "cell_type": "code",
   "execution_count": 7,
   "metadata": {},
   "outputs": [],
   "source": [
    "counties_abbrev.columns = [\"OrigIndex\", \"State\", \"County\", \"Abbreviation\"]\n",
    "\n",
    "counties_abbrev[\"County\"] = counties_abbrev[\"County\"].apply(lambda x: x.replace(\" \", \"%\"))"
   ]
  },
  {
   "cell_type": "code",
   "execution_count": 8,
   "metadata": {},
   "outputs": [],
   "source": [
    "# query = \"\"\"SELECT DISTINCT `State Name`, `county Name` FROM data\"\"\"\n",
    "\n",
    "# counties = ps.sqldf(query=query)\n",
    "\n",
    "# counties.columns = [\"State\", \"County\"]\n",
    "\n",
    "# counties_abbrev = pd.merge(counties, states, how=\"left\", on=\"State\")\n",
    "\n",
    "counties_abbrev[\"State\"] = counties_abbrev[\"State\"].apply(str.strip)\n",
    "counties_abbrev[\"County\"] = counties_abbrev[\"County\"].apply(str.strip)\n",
    "\n",
    "counties_abbrev[\"is_city\"] = 0"
   ]
  },
  {
   "cell_type": "code",
   "execution_count": 17,
   "metadata": {
    "scrolled": true
   },
   "outputs": [
    {
     "data": {
      "text/plain": [
       "pandas.core.frame.DataFrame"
      ]
     },
     "execution_count": 17,
     "metadata": {},
     "output_type": "execute_result"
    }
   ],
   "source": [
    "type(counties_abbrev"
   ]
  },
  {
   "cell_type": "code",
   "execution_count": null,
   "metadata": {},
   "outputs": [],
   "source": [
    "# Helper functions\n",
    "def get_token(api_key):\n",
    "    response = requests.get(\"https://api.mesowest.net/v2/auth?apikey=\" + api_key)\n",
    "    return json.loads(response.content.decode(\"latin1\"))[\"TOKEN\"]\n",
    "\n",
    "def daterange(start_date, end_date):\n",
    "    for n in range(int ((end_date - start_date).days)):\n",
    "        yield start_date + timedelta(n)\n",
    "        \n",
    "def get_avg_filt(dic, var):\n",
    "    if isinstance(dic[var], dict):\n",
    "        return dic[var][\"average\"]\n",
    "    else:\n",
    "        return np.nan\n",
    "    \n",
    "def get_avg(response, var):\n",
    "    if \"STATION\" in response.keys():\n",
    "        stations = response[\"STATION\"]\n",
    "        N = len(stations)\n",
    "        if stations:\n",
    "            return np.nanmean([get_avg_filt(y, var) for y in [x[\"STATISTICS\"] for x in stations if \"STATISTICS\" in x.keys()] if var in y.keys()])\n",
    "        else:\n",
    "            return np.nan\n",
    "    else:\n",
    "        print(\"no STATION in keys\")\n",
    "        return np.nan\n",
    "    \n",
    "def run_api_query(url):\n",
    "    t1 = time()\n",
    "    response = requests.get(url)\n",
    "    t2 = time()\n",
    "    resp_json = json.loads(response.text)\n",
    "    t3 = time()\n",
    "#     print(\"Time for quering data from URL: {}\".format(t2-t1))\n",
    "#     print(\"Time for loading into json: {}\".format(t3-t2))\n",
    "    return resp_json"
   ]
  },
  {
   "cell_type": "code",
   "execution_count": null,
   "metadata": {},
   "outputs": [],
   "source": [
    "def run_mesowest_api(state_abbrev, county, year, month, day, token):\n",
    "    date1 = str(year) + str(month).zfill(2) + str(day).zfill(2)\n",
    "    date2 = str(year) + str(month).zfill(2) + str(day).zfill(2)\n",
    "    is_city = counties_abbrev.loc[(counties_abbrev['County'] == county) & (counties_abbrev['Abbreviation'] == state_abbrev),\"is_city\"].values[0]\n",
    "#     print(is_city)\n",
    "    if(is_city):\n",
    "        print(\"This county is actually a city. Querying by city...\")\n",
    "        url = \"http://api.mesowest.net/v2/stations/statistics?state=\" + state_abbrev + \"&city=\" + county + \"&start=\" + date1 + \"0000&end=\" + date2 + \"0000&obtimezone=local&token=\" + token + \"&type=average\"        \n",
    "    else:\n",
    "        url = \"http://api.mesowest.net/v2/stations/statistics?state=\" + state_abbrev + \"&county=\" + county + \"&start=\" + date1 + \"0000&end=\" + date2 + \"0000&obtimezone=local&token=\" + token + \"&type=average\"\n",
    "    \n",
    "    resp_json = run_api_query(url)\n",
    "    \n",
    "    if \"STATION\" in resp_json.keys():\n",
    "        if resp_json[\"STATION\"]:\n",
    "            pass\n",
    "        else:\n",
    "            counties_abbrev.loc[(counties_abbrev['County'] == county) & (counties_abbrev['Abbreviation'] == state_abbrev),\"is_city\"].values[0] = 1\n",
    "            print(\"No data found by county. Querying by city...\")\n",
    "            url = \"http://api.mesowest.net/v2/stations/statistics?state=\" + state_abbrev + \"&city=\" + county + \"&start=\" + date1 + \"0000&end=\" + date2 + \"0000&obtimezone=local&token=\" + token + \"&type=average\"        \n",
    "            resp_json = run_api_query(url)\n",
    "\n",
    "    return resp_json   "
   ]
  },
  {
   "cell_type": "code",
   "execution_count": null,
   "metadata": {},
   "outputs": [],
   "source": [
    "def get_county_weather_data(state, county, start_date, end_date, *argv):\n",
    "    weather = dict()\n",
    "    for arg in argv:\n",
    "        weather[arg] = []\n",
    "        \n",
    "    dates = []   \n",
    "    token = get_token(mesowest_api_key)\n",
    "    \n",
    "    for dt in daterange(start_date, end_date):\n",
    "        response = run_mesowest_api(state, county, dt.year, dt.month, dt.day, token)\n",
    "        dates.append(dt)\n",
    "        t1 = time()\n",
    "        for var in argv:            \n",
    "            weather[var] += [get_avg(response, var)]\n",
    "        t2 = time()\n",
    "#         print(\"Finished pulling data for date {}. \\nTime taken: {}\".format(dt,t2-t1))\n",
    "        \n",
    "    weather_df = pd.DataFrame(weather)\n",
    "    weather_df[\"Date\"] = dates\n",
    "    weather_df[\"State\"] = state\n",
    "    weather_df[\"County\"] = county\n",
    "    \n",
    "    return weather_df"
   ]
  },
  {
   "cell_type": "code",
   "execution_count": null,
   "metadata": {
    "scrolled": true
   },
   "outputs": [],
   "source": [
    "temp = pd.DataFrame()\n",
    "for i in range(len(counties_abbrev)):  \n",
    "    county_name = counties_abbrev[\"County\"][i]\n",
    "    if isinstance(counties_abbrev[\"Abbreviation\"][i], str) & isinstance(counties_abbrev[\"County\"][i], str):\n",
    "        print(\"\\nGetting weather data for county {} - {}\".format(counties_abbrev[\"OrigIndex\"][i], county_name))  \n",
    "        temp_upd = get_county_weather_data(counties_abbrev[\"Abbreviation\"][i], counties_abbrev[\"County\"][i].replace(\" \", \"%\"), start_date, end_date, \"air_temp_set_1\", \"altimeter_set_1\", \"wind_speed_set_1\", \"relative_humidity_set_1\", \"precip_accum_24_hour_set_1\")\n",
    "        temp = pd.concat([temp, temp_upd])\n",
    "    else:\n",
    "        print(\"\\nSkipping county {} - {}\".format(i,county_name))\n",
    "        continue"
   ]
  },
  {
   "cell_type": "code",
   "execution_count": null,
   "metadata": {
    "scrolled": true
   },
   "outputs": [],
   "source": [
    "temp.reset_index(drop=True,inplace=True)\n",
    "# temp\n",
    "temp.to_csv(\"weather_data.csv\", index=None,header=True)"
   ]
  },
  {
   "cell_type": "code",
   "execution_count": null,
   "metadata": {},
   "outputs": [],
   "source": [
    "def missing_density(data, var):\n",
    "    return (data[var].isnull()).sum()/data.shape[0]"
   ]
  },
  {
   "cell_type": "code",
   "execution_count": null,
   "metadata": {},
   "outputs": [],
   "source": [
    "missing_density(temp, \"altimeter_set_1\")"
   ]
  },
  {
   "cell_type": "code",
   "execution_count": null,
   "metadata": {},
   "outputs": [],
   "source": [
    "[x[\"STATISTICS\"] for x  in response[\"STATION\"]]\n",
    "\n",
    "get_temp(\"NC\", \"Wake\", start_date, end_date, \"air_temp_set_1\", \"altimeter_set_1\")"
   ]
  },
  {
   "cell_type": "code",
   "execution_count": null,
   "metadata": {},
   "outputs": [],
   "source": [
    "import matplotlib.pyplot as plt\n"
   ]
  },
  {
   "cell_type": "code",
   "execution_count": null,
   "metadata": {},
   "outputs": [],
   "source": [
    "plt.plot(data[\"Average Windspeed\"],data[\"AQI\"]);plt.show()"
   ]
  },
  {
   "cell_type": "code",
   "execution_count": null,
   "metadata": {},
   "outputs": [],
   "source": [
    "data"
   ]
  }
 ],
 "metadata": {
  "kernelspec": {
   "display_name": "Python 3",
   "language": "python",
   "name": "python3"
  },
  "language_info": {
   "codemirror_mode": {
    "name": "ipython",
    "version": 3
   },
   "file_extension": ".py",
   "mimetype": "text/x-python",
   "name": "python",
   "nbconvert_exporter": "python",
   "pygments_lexer": "ipython3",
   "version": "3.6.4"
  }
 },
 "nbformat": 4,
 "nbformat_minor": 2
}
