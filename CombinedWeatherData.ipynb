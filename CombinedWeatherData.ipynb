{
 "cells": [
  {
   "cell_type": "code",
   "execution_count": 2,
   "metadata": {},
   "outputs": [],
   "source": [
    "import time\n",
    "import numpy as np\n",
    "import pandas as pd\n",
    "import matplotlib.pyplot as plt\n",
    "import pandasql as ps\n",
    "import glob\n",
    "from dateutil import parser\n",
    "\n",
    "import warnings\n",
    "warnings.filterwarnings('ignore')"
   ]
  },
  {
   "cell_type": "code",
   "execution_count": 9,
   "metadata": {},
   "outputs": [
    {
     "name": "stdout",
     "output_type": "stream",
     "text": [
      "/Users/tessleggio/GoogleDrive/GeorgiaTech/2018-Fall/01-ISYE-6414/6414Project/Github/Air-Quality-Prediction-Regression\n"
     ]
    }
   ],
   "source": [
    "import os\n",
    "os.chdir(\"/Users/tessleggio/GoogleDrive/GeorgiaTech/2018-Fall/01-ISYE-6414/6414Project/Github/Air-Quality-Prediction-Regression\")\n",
    "print(os.getcwd())"
   ]
  },
  {
   "cell_type": "code",
   "execution_count": 16,
   "metadata": {},
   "outputs": [],
   "source": [
    "Tess_700s_1 = pd.read_csv(\"weather_data_files/Tess/weather_data_Tess_700s_1.csv\")\n",
    "Tess_700s_2 = pd.read_csv(\"weather_data_files/Tess/weather_data_Tess_700s_2.csv\")\n",
    "Tess_700s_3 = pd.read_csv(\"weather_data_files/Tess/weather_data_Tess_700s_3.csv\")\n",
    "Tess_700s_4 = pd.read_csv(\"weather_data_files/Tess/weather_data_Tess_700s_4.csv\")\n",
    "Tess_700s_5 = pd.read_csv(\"weather_data_files/Tess/weather_data_Tess_700s_5.csv\")\n",
    "Tess_700s_6 = pd.read_csv(\"weather_data_files/Tess/weather_data_Tess_700s_6.csv\")\n",
    "Tess_700s_7 = pd.read_csv(\"weather_data_files/Tess/weather_data_Tess_700s_7.csv\")\n",
    "\n",
    "Tess_800s_1 = pd.read_csv(\"weather_data_files/Tess/weather_data_Tess_800s_1.csv\")\n",
    "Tess_800s_2 = pd.read_csv(\"weather_data_files/Tess/weather_data_Tess_800s_2.csv\")\n",
    "Tess_800s_3 = pd.read_csv(\"weather_data_files/Tess/weather_data_Tess_800s_3.csv\")\n",
    "Tess_800s_4 = pd.read_csv(\"weather_data_files/Tess/weather_data_Tess_800s_4.csv\")\n",
    "Tess_800s_5 = pd.read_csv(\"weather_data_files/Tess/weather_data_Tess_800s_5.csv\")\n",
    "Tess_800s_6 = pd.read_csv(\"weather_data_files/Tess/weather_data_Tess_800s_6.csv\")\n",
    "Tess_800s_7 = pd.read_csv(\"weather_data_files/Tess/weather_data_Tess_800s_7.csv\")\n",
    "Tess_800s_8 = pd.read_csv(\"weather_data_files/Tess/weather_data_Tess_800s_8.csv\")\n",
    "Tess_800s_9 = pd.read_csv(\"weather_data_files/Tess/weather_data_Tess_800s_9.csv\")\n",
    "\n",
    "Tess_900s_1 = pd.read_csv(\"weather_data_files/Tess/weather_data_Tess_900s_1.csv\")\n",
    "Tess_900s_2 = pd.read_csv(\"weather_data_files/Tess/weather_data_Tess_900s_2.csv\")\n",
    "Tess_900s_3 = pd.read_csv(\"weather_data_files/Tess/weather_data_Tess_900s_3.csv\")\n",
    "Tess_900s_4 = pd.read_csv(\"weather_data_files/Tess/weather_data_Tess_900s_4.csv\")\n",
    "Tess_900s_5 = pd.read_csv(\"weather_data_files/Tess/weather_data_Tess_900s_5.csv\")\n",
    "Tess_900s_6 = pd.read_csv(\"weather_data_files/Tess/weather_data_Tess_900s_6.csv\")\n",
    "Tess_900s_7 = pd.read_csv(\"weather_data_files/Tess/weather_data_Tess_900s_7.csv\")\n",
    "Tess_900s_8 = pd.read_csv(\"weather_data_files/Tess/weather_data_Tess_900s_8.csv\")\n",
    "Tess_900s_9 = pd.read_csv(\"weather_data_files/Tess/weather_data_Tess_900s_9.csv\")\n",
    "\n",
    "Tess_1000s_1 = pd.read_csv(\"weather_data_files/Tess/weather_data_Tess_1000s_1.csv\")\n",
    "Tess_1000s_2 = pd.read_csv(\"weather_data_files/Tess/weather_data_Tess_1000s_2.csv\")\n",
    "Tess_1000s_3 = pd.read_csv(\"weather_data_files/Tess/weather_data_Tess_1000s_3.csv\")\n",
    "Tess_1000s_4 = pd.read_csv(\"weather_data_files/Tess/weather_data_Tess_1000s_4.csv\")\n",
    "Tess_1000s_5 = pd.read_csv(\"weather_data_files/Tess/weather_data_Tess_1000s_5.csv\")\n",
    "Tess_1000s_6 = pd.read_csv(\"weather_data_files/Tess/weather_data_Tess_1000s_6.csv\")\n",
    "Tess_1000s_7 = pd.read_csv(\"weather_data_files/Tess/weather_data_Tess_1000s_7.csv\")\n",
    "Tess_1000s_8 = pd.read_csv(\"weather_data_files/Tess/weather_data_Tess_1000s_8.csv\")\n",
    "Tess_1000s_9 = pd.read_csv(\"weather_data_files/Tess/weather_data_Tess_1000s_9.csv\")"
   ]
  },
  {
   "cell_type": "code",
   "execution_count": 23,
   "metadata": {},
   "outputs": [
    {
     "name": "stdout",
     "output_type": "stream",
     "text": [
      "28105\n",
      "28105\n"
     ]
    }
   ],
   "source": [
    "Tess_700s = pd.concat([Tess_700s_1,Tess_700s_2,Tess_700s_3,Tess_700s_4,Tess_700s_5,Tess_700s_6,Tess_700s_7])\n",
    "print(len(Tess_700s_1)+len(Tess_700s_2)+len(Tess_700s_3)+len(Tess_700s_4)+len(Tess_700s_5)+len(Tess_700s_6)+len(Tess_700s_7))\n",
    "print(len(Tess_700s))"
   ]
  },
  {
   "cell_type": "code",
   "execution_count": 24,
   "metadata": {},
   "outputs": [],
   "source": [
    "Tess_800s = pd.concat([Tess_800s_1,Tess_800s_2,Tess_800s_3,Tess_800s_4,Tess_800s_5,Tess_800s_6,Tess_800s_7,Tess_800s_8,Tess_800s_9])"
   ]
  },
  {
   "cell_type": "code",
   "execution_count": 25,
   "metadata": {},
   "outputs": [],
   "source": [
    "Tess_900s = pd.concat([Tess_900s_1,Tess_900s_2,Tess_900s_3,Tess_900s_4,Tess_900s_5,Tess_900s_6,Tess_900s_7,Tess_900s_8,Tess_900s_9])"
   ]
  },
  {
   "cell_type": "code",
   "execution_count": 26,
   "metadata": {},
   "outputs": [],
   "source": [
    "Tess_1000s = pd.concat([Tess_1000s_1,Tess_1000s_2,Tess_1000s_3,Tess_1000s_4,Tess_1000s_5,Tess_1000s_6,Tess_1000s_7,Tess_1000s_8,Tess_1000s_9])"
   ]
  },
  {
   "cell_type": "code",
   "execution_count": 27,
   "metadata": {},
   "outputs": [],
   "source": [
    "tess_data = pd.concat([Tess_700s,Tess_800s,Tess_900s,Tess_1000s])"
   ]
  },
  {
   "cell_type": "code",
   "execution_count": 28,
   "metadata": {},
   "outputs": [
    {
     "name": "stdout",
     "output_type": "stream",
     "text": [
      "132495\n"
     ]
    }
   ],
   "source": [
    "print(len(tess_data))"
   ]
  },
  {
   "cell_type": "code",
   "execution_count": 29,
   "metadata": {},
   "outputs": [],
   "source": [
    "tess_data.to_csv(\"data/weather_data_Tess_720-1109.csv\")"
   ]
  },
  {
   "cell_type": "code",
   "execution_count": 32,
   "metadata": {},
   "outputs": [],
   "source": [
    "Ian_000s = pd.read_csv(\"weather_data_files/Ian/weather_data_Ian_000s.csv\")\n",
    "Ian_81 = pd.read_csv(\"weater_data_failes/Ian/weather81.csv\")\n",
    "\n",
    "Ian_100s_1 = pd.read_csv(\"weather_data_files/Ian/weather_data_Ian_100s_1.csv\")\n",
    "Ian_100s_2 = pd.read_csv(\"weather_data_files/Ian/weather_data_Ian_100s_2.csv\")\n",
    "Ian_100s_3 = pd.read_csv(\"weather_data_files/Ian/weather_data_Ian_100s_3.csv\")\n",
    "Ian_100s_4 = pd.read_csv(\"weather_data_files/Ian/weather_data_Ian_100s_4.csv\")\n",
    "Ian_100s_5 = pd.read_csv(\"weather_data_files/Ian/weather_data_Ian_100s_5.csv\")\n",
    "Ian_100s_6 = pd.read_csv(\"weather_data_files/Ian/weather_data_Ian_100s_6.csv\")\n",
    "Ian_100s_7 = pd.read_csv(\"weather_data_files/Ian/weather_data_Ian_100s_7.csv\")\n",
    "Ian_100s_8 = pd.read_csv(\"weather_data_files/Ian/weather_data_Ian_100s_8.csv\")\n",
    "Ian_100s_9 = pd.read_csv(\"weather_data_files/Ian/weather_data_Ian_100s_9.csv\")\n",
    "Ian_100s_10 = pd.read_csv(\"weather_data_files/Ian/weather_data_Ian_100s_10.csv\")\n",
    "\n",
    "Ian_200s_1 = pd.read_csv(\"weather_data_files/Ian/weather_data_Ian_200s_1.csv\")\n",
    "Ian_200s_2 = pd.read_csv(\"weather_data_files/Ian/weather_data_Ian_200s_2.csv\")\n",
    "Ian_200s_3 = pd.read_csv(\"weather_data_files/Ian/weather_data_Ian_200s_3.csv\")\n",
    "Ian_200s_4 = pd.read_csv(\"weather_data_files/Ian/weather_data_Ian_200s_4.csv\")\n",
    "Ian_200s_5 = pd.read_csv(\"weather_data_files/Ian/weather_data_Ian_200s_5.csv\")\n",
    "Ian_200s_6 = pd.read_csv(\"weather_data_files/Ian/weather_data_Ian_200s_6.csv\")\n",
    "Ian_200s_7 = pd.read_csv(\"weather_data_files/Ian/weather_data_Ian_200s_7.csv\")\n",
    "Ian_200s_8 = pd.read_csv(\"weather_data_files/Ian/weather_data_Ian_200s_8.csv\")\n",
    "Ian_200s_9 = pd.read_csv(\"weather_data_files/Ian/weather_data_Ian_200s_9.csv\")\n",
    "Ian_200s_10 = pd.read_csv(\"weather_data_files/Ian/weather_data_Ian_200s_10.csv\")\n",
    "\n",
    "Ian_300s_1 = pd.read_csv(\"weather_data_files/Ian/weather_data_Ian_300s_1.csv\")\n",
    "Ian_300s_2 = pd.read_csv(\"weather_data_files/Ian/weather_data_Ian_300s_2.csv\")\n",
    "Ian_300s_3 = pd.read_csv(\"weather_data_files/Ian/weather_data_Ian_300s_3.csv\")\n",
    "Ian_300s_4 = pd.read_csv(\"weather_data_files/Ian/weather_data_Ian_300s_4.csv\")\n",
    "Ian_300s_5 = pd.read_csv(\"weather_data_files/Ian/weather_data_Ian_300s_5.csv\")\n",
    "Ian_300s_6 = pd.read_csv(\"weather_data_files/Ian/weather_data_Ian_300s_6.csv\")\n",
    "Ian_300s_7 = pd.read_csv(\"weather_data_files/Ian/weather_data_Ian_300s_7.csv\")\n",
    "Ian_300s_8 = pd.read_csv(\"weather_data_files/Ian/weather_data_Ian_300s_8.csv\")\n",
    "Ian_300s_9 = pd.read_csv(\"weather_data_files/Ian/weather_data_Ian_300s_9.csv\")\n",
    "Ian_300s_10 = pd.read_csv(\"weather_data_files/Ian/weather_data_Ian_300s_10.csv\")"
   ]
  },
  {
   "cell_type": "code",
   "execution_count": 33,
   "metadata": {},
   "outputs": [],
   "source": [
    "Ian_000s = pd.concat([Ian_81,Ian_000s])\n",
    "\n",
    "Ian_100s = pd.concat([Ian_100s_1,Ian_100s_2,Ian_100s_3,Ian_100s_4,Ian_100s_5,Ian_100s_6,Ian_100s_7,Ian_100s_8,Ian_100s_9,Ian_100s_10])\n",
    "Ian_200s = pd.concat([Ian_200s_1,Ian_200s_2,Ian_200s_3,Ian_200s_4,Ian_200s_5,Ian_200s_6,Ian_200s_7,Ian_200s_8,Ian_200s_9,Ian_200s_10])\n",
    "Ian_300s = pd.concat([Ian_300s_1,Ian_300s_2,Ian_300s_3,Ian_300s_4,Ian_300s_5,Ian_300s_6,Ian_300s_7,Ian_300s_8,Ian_300s_9,Ian_300s_10])"
   ]
  },
  {
   "cell_type": "code",
   "execution_count": 39,
   "metadata": {},
   "outputs": [
    {
     "name": "stdout",
     "output_type": "stream",
     "text": [
      "115340\n"
     ]
    }
   ],
   "source": [
    "Ian_data = pd.concat([Ian_000s,Ian_100s,Ian_200s,Ian_300s])\n",
    "print(len(Ian_data))"
   ]
  },
  {
   "cell_type": "code",
   "execution_count": 41,
   "metadata": {},
   "outputs": [],
   "source": [
    "Ian_data.to_csv(\"data/weather_data_Ian_81-399.csv\")"
   ]
  },
  {
   "cell_type": "code",
   "execution_count": 36,
   "metadata": {},
   "outputs": [
    {
     "name": "stdout",
     "output_type": "stream",
     "text": [
      "116435\n"
     ]
    }
   ],
   "source": [
    "Ian_shouldbe = pd.read_csv(\"weather_data_files/counties_abbrev_Ian.csv\")\n",
    "print(len(Ian_shouldbe)*365)"
   ]
  },
  {
   "cell_type": "code",
   "execution_count": 42,
   "metadata": {},
   "outputs": [],
   "source": [
    "Ian = pd.read_csv(\"data/weather_data_Ian_81-399.csv\")\n",
    "Ishika = pd.read_csv(\"data/weather_data_Ishika_400-719.csv\")\n",
    "Tess = pd.read_csv(\"data/weather_data_Tess_720-1109.csv\")"
   ]
  },
  {
   "cell_type": "code",
   "execution_count": 43,
   "metadata": {},
   "outputs": [],
   "source": [
    "weather_data = pd.concat([Ian,Ishika,Tess])"
   ]
  },
  {
   "cell_type": "code",
   "execution_count": 44,
   "metadata": {},
   "outputs": [],
   "source": [
    "weather_data.to_csv(\"data/weather_data.csv\")"
   ]
  },
  {
   "cell_type": "code",
   "execution_count": 45,
   "metadata": {},
   "outputs": [
    {
     "name": "stdout",
     "output_type": "stream",
     "text": [
      "364635\n"
     ]
    }
   ],
   "source": [
    "print(len(weather_data))"
   ]
  }
 ],
 "metadata": {
  "kernelspec": {
   "display_name": "Python 3",
   "language": "python",
   "name": "python3"
  },
  "language_info": {
   "codemirror_mode": {
    "name": "ipython",
    "version": 3
   },
   "file_extension": ".py",
   "mimetype": "text/x-python",
   "name": "python",
   "nbconvert_exporter": "python",
   "pygments_lexer": "ipython3",
   "version": "3.7.1"
  }
 },
 "nbformat": 4,
 "nbformat_minor": 2
}
